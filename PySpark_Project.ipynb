{
 "cells": [
  {
   "cell_type": "markdown",
   "id": "b83500bd",
   "metadata": {
    "id": "b83500bd"
   },
   "source": [
    "![image-2.png](attachment:image-2.png)\n",
    "\n",
    "# Machine Learning with PySpark\n",
    "By VISION Team"
   ]
  },
  {
   "cell_type": "code",
   "execution_count": null,
   "id": "0b32dd20",
   "metadata": {
    "colab": {
     "base_uri": "https://localhost:8080/"
    },
    "id": "0b32dd20",
    "outputId": "d1de0eb2-c980-426f-fcef-e599b1484e7d"
   },
   "outputs": [],
   "source": [
    "#!pip install pyspark"
   ]
  },
  {
   "cell_type": "code",
   "execution_count": null,
   "id": "241f8b66",
   "metadata": {},
   "outputs": [],
   "source": [
    "!pip install -q findspark"
   ]
  },
  {
   "cell_type": "code",
   "execution_count": 1,
   "id": "b3cc1f27",
   "metadata": {
    "id": "b3cc1f27",
    "scrolled": true
   },
   "outputs": [],
   "source": [
    "#lets import the usual suspects\n",
    "\n",
    "import warnings\n",
    "import matplotlib.pyplot as plt\n",
    "import seaborn as sns\n",
    "import pandas as pd\n",
    "\n",
    "#other imports we will be needing in this notebook\n",
    "\n",
    "import pyspark\n",
    "from pyspark.sql import functions as F\n",
    "from pyspark.sql import types\n",
    "from pyspark.sql.functions import col, isnan, when, count\n",
    "\n",
    "from pyspark.ml.feature import Imputer, VectorAssembler, StringIndexer\n",
    "from pyspark.ml.regression import RandomForestRegressor, DecisionTreeRegressor, GBTRegressor, LinearRegression\n",
    "from pyspark.ml.evaluation import RegressionEvaluator\n",
    "from pyspark.ml.tuning import CrossValidator, ParamGridBuilder\n",
    "\n",
    "# for ml Classification \n",
    "from pyspark.ml.evaluation import BinaryClassificationEvaluator\n",
    "from pyspark.ml.classification import LogisticRegression\n",
    "from pyspark.sql import SQLContext\n",
    "\n",
    "\n",
    "warnings.filterwarnings('ignore')"
   ]
  },
  {
   "cell_type": "markdown",
   "id": "51fbbf5d",
   "metadata": {
    "id": "51fbbf5d"
   },
   "source": [
    "### Connect to the Spark server"
   ]
  },
  {
   "cell_type": "code",
   "execution_count": 2,
   "id": "93d36817",
   "metadata": {
    "id": "93d36817"
   },
   "outputs": [],
   "source": [
    "spark = pyspark.sql.SparkSession.builder.getOrCreate()"
   ]
  },
  {
   "cell_type": "markdown",
   "id": "a94d584a",
   "metadata": {
    "id": "a94d584a"
   },
   "source": [
    "### Obtain the Data"
   ]
  },
  {
   "cell_type": "code",
   "execution_count": 3,
   "id": "06852658",
   "metadata": {
    "colab": {
     "base_uri": "https://localhost:8080/"
    },
    "id": "06852658",
    "outputId": "36616f18-7f4a-4e33-904f-febc9aec946b"
   },
   "outputs": [
    {
     "name": "stdout",
     "output_type": "stream",
     "text": [
      "root\n",
      " |-- Diabetes_012: double (nullable = true)\n",
      " |-- HighBP: double (nullable = true)\n",
      " |-- HighChol: double (nullable = true)\n",
      " |-- CholCheck: double (nullable = true)\n",
      " |-- BMI: double (nullable = true)\n",
      " |-- Smoker: double (nullable = true)\n",
      " |-- Stroke: double (nullable = true)\n",
      " |-- HeartDiseaseorAttack: double (nullable = true)\n",
      " |-- PhysActivity: double (nullable = true)\n",
      " |-- Fruits: double (nullable = true)\n",
      " |-- Veggies: double (nullable = true)\n",
      " |-- HvyAlcoholConsump: double (nullable = true)\n",
      " |-- AnyHealthcare: double (nullable = true)\n",
      " |-- NoDocbcCost: double (nullable = true)\n",
      " |-- GenHlth: double (nullable = true)\n",
      " |-- MentHlth: double (nullable = true)\n",
      " |-- PhysHlth: double (nullable = true)\n",
      " |-- DiffWalk: double (nullable = true)\n",
      " |-- Sex: double (nullable = true)\n",
      " |-- Age: double (nullable = true)\n",
      " |-- Education: double (nullable = true)\n",
      " |-- Income: double (nullable = true)\n",
      "\n"
     ]
    }
   ],
   "source": [
    "#Loading in the data, printing the schema, and showing the top 20 rows\n",
    "Data = spark.read.csv(r'diabetes_012_health_indicators_BRFSS2015.csv', sep=',', header = True, inferSchema = True)\n",
    "Data.printSchema()"
   ]
  },
  {
   "cell_type": "code",
   "execution_count": 4,
   "id": "900272d7",
   "metadata": {
    "colab": {
     "base_uri": "https://localhost:8080/"
    },
    "id": "900272d7",
    "outputId": "9fa845ab-725f-4687-9205-c8084bf3990d"
   },
   "outputs": [
    {
     "name": "stdout",
     "output_type": "stream",
     "text": [
      "+------------+------+--------+---------+----+------+------+--------------------+------------+------+-------+-----------------+-------------+-----------+-------+--------+--------+--------+---+----+---------+------+\n",
      "|Diabetes_012|HighBP|HighChol|CholCheck| BMI|Smoker|Stroke|HeartDiseaseorAttack|PhysActivity|Fruits|Veggies|HvyAlcoholConsump|AnyHealthcare|NoDocbcCost|GenHlth|MentHlth|PhysHlth|DiffWalk|Sex| Age|Education|Income|\n",
      "+------------+------+--------+---------+----+------+------+--------------------+------------+------+-------+-----------------+-------------+-----------+-------+--------+--------+--------+---+----+---------+------+\n",
      "|         0.0|   1.0|     1.0|      1.0|40.0|   1.0|   0.0|                 0.0|         0.0|   0.0|    1.0|              0.0|          1.0|        0.0|    5.0|    18.0|    15.0|     1.0|0.0| 9.0|      4.0|   3.0|\n",
      "|         0.0|   0.0|     0.0|      0.0|25.0|   1.0|   0.0|                 0.0|         1.0|   0.0|    0.0|              0.0|          0.0|        1.0|    3.0|     0.0|     0.0|     0.0|0.0| 7.0|      6.0|   1.0|\n",
      "|         0.0|   1.0|     1.0|      1.0|28.0|   0.0|   0.0|                 0.0|         0.0|   1.0|    0.0|              0.0|          1.0|        1.0|    5.0|    30.0|    30.0|     1.0|0.0| 9.0|      4.0|   8.0|\n",
      "|         0.0|   1.0|     0.0|      1.0|27.0|   0.0|   0.0|                 0.0|         1.0|   1.0|    1.0|              0.0|          1.0|        0.0|    2.0|     0.0|     0.0|     0.0|0.0|11.0|      3.0|   6.0|\n",
      "|         0.0|   1.0|     1.0|      1.0|24.0|   0.0|   0.0|                 0.0|         1.0|   1.0|    1.0|              0.0|          1.0|        0.0|    2.0|     3.0|     0.0|     0.0|0.0|11.0|      5.0|   4.0|\n",
      "|         0.0|   1.0|     1.0|      1.0|25.0|   1.0|   0.0|                 0.0|         1.0|   1.0|    1.0|              0.0|          1.0|        0.0|    2.0|     0.0|     2.0|     0.0|1.0|10.0|      6.0|   8.0|\n",
      "|         0.0|   1.0|     0.0|      1.0|30.0|   1.0|   0.0|                 0.0|         0.0|   0.0|    0.0|              0.0|          1.0|        0.0|    3.0|     0.0|    14.0|     0.0|0.0| 9.0|      6.0|   7.0|\n",
      "|         0.0|   1.0|     1.0|      1.0|25.0|   1.0|   0.0|                 0.0|         1.0|   0.0|    1.0|              0.0|          1.0|        0.0|    3.0|     0.0|     0.0|     1.0|0.0|11.0|      4.0|   4.0|\n",
      "|         2.0|   1.0|     1.0|      1.0|30.0|   1.0|   0.0|                 1.0|         0.0|   1.0|    1.0|              0.0|          1.0|        0.0|    5.0|    30.0|    30.0|     1.0|0.0| 9.0|      5.0|   1.0|\n",
      "|         0.0|   0.0|     0.0|      1.0|24.0|   0.0|   0.0|                 0.0|         0.0|   0.0|    1.0|              0.0|          1.0|        0.0|    2.0|     0.0|     0.0|     0.0|1.0| 8.0|      4.0|   3.0|\n",
      "|         2.0|   0.0|     0.0|      1.0|25.0|   1.0|   0.0|                 0.0|         1.0|   1.0|    1.0|              0.0|          1.0|        0.0|    3.0|     0.0|     0.0|     0.0|1.0|13.0|      6.0|   8.0|\n",
      "|         0.0|   1.0|     1.0|      1.0|34.0|   1.0|   0.0|                 0.0|         0.0|   1.0|    1.0|              0.0|          1.0|        0.0|    3.0|     0.0|    30.0|     1.0|0.0|10.0|      5.0|   1.0|\n",
      "|         0.0|   0.0|     0.0|      1.0|26.0|   1.0|   0.0|                 0.0|         0.0|   0.0|    1.0|              0.0|          1.0|        0.0|    3.0|     0.0|    15.0|     0.0|0.0| 7.0|      5.0|   7.0|\n",
      "|         2.0|   1.0|     1.0|      1.0|28.0|   0.0|   0.0|                 0.0|         0.0|   0.0|    1.0|              0.0|          1.0|        0.0|    4.0|     0.0|     0.0|     1.0|0.0|11.0|      4.0|   6.0|\n",
      "|         0.0|   0.0|     1.0|      1.0|33.0|   1.0|   1.0|                 0.0|         1.0|   0.0|    1.0|              0.0|          1.0|        1.0|    4.0|    30.0|    28.0|     0.0|0.0| 4.0|      6.0|   2.0|\n",
      "|         0.0|   1.0|     0.0|      1.0|33.0|   0.0|   0.0|                 0.0|         1.0|   0.0|    0.0|              0.0|          1.0|        0.0|    2.0|     5.0|     0.0|     0.0|0.0| 6.0|      6.0|   8.0|\n",
      "|         0.0|   1.0|     1.0|      1.0|21.0|   0.0|   0.0|                 0.0|         1.0|   1.0|    1.0|              0.0|          1.0|        0.0|    3.0|     0.0|     0.0|     0.0|0.0|10.0|      4.0|   3.0|\n",
      "|         2.0|   0.0|     0.0|      1.0|23.0|   1.0|   0.0|                 0.0|         1.0|   0.0|    0.0|              0.0|          1.0|        0.0|    2.0|     0.0|     0.0|     0.0|1.0| 7.0|      5.0|   6.0|\n",
      "|         0.0|   0.0|     0.0|      0.0|23.0|   0.0|   0.0|                 0.0|         0.0|   0.0|    1.0|              0.0|          1.0|        0.0|    2.0|    15.0|     0.0|     0.0|0.0| 2.0|      6.0|   7.0|\n",
      "|         0.0|   0.0|     1.0|      1.0|28.0|   0.0|   0.0|                 0.0|         0.0|   0.0|    0.0|              1.0|          1.0|        0.0|    2.0|    10.0|     0.0|     0.0|1.0| 4.0|      6.0|   8.0|\n",
      "+------------+------+--------+---------+----+------+------+--------------------+------------+------+-------+-----------------+-------------+-----------+-------+--------+--------+--------+---+----+---------+------+\n",
      "only showing top 20 rows\n",
      "\n"
     ]
    }
   ],
   "source": [
    "Data.show()"
   ]
  },
  {
   "cell_type": "markdown",
   "id": "2ac07496",
   "metadata": {
    "id": "2ac07496"
   },
   "source": [
    "### Data Preprocessing"
   ]
  },
  {
   "cell_type": "code",
   "execution_count": 5,
   "id": "5721f06e",
   "metadata": {},
   "outputs": [
    {
     "name": "stdout",
     "output_type": "stream",
     "text": [
      "There are 253680 rows 22 Columns\n"
     ]
    }
   ],
   "source": [
    "print(\"There are\", Data.count(), \"rows\", len(Data.columns), \"Columns\")"
   ]
  },
  {
   "cell_type": "code",
   "execution_count": 6,
   "id": "c185a8ff",
   "metadata": {
    "colab": {
     "base_uri": "https://localhost:8080/"
    },
    "id": "c185a8ff",
    "outputId": "b74876e9-bc35-4db0-d972-4f32a7414166"
   },
   "outputs": [
    {
     "name": "stdout",
     "output_type": "stream",
     "text": [
      "+------------+------+--------+---------+---+------+------+--------------------+------------+------+-------+-----------------+-------------+-----------+-------+--------+--------+--------+---+---+---------+------+\n",
      "|Diabetes_012|HighBP|HighChol|CholCheck|BMI|Smoker|Stroke|HeartDiseaseorAttack|PhysActivity|Fruits|Veggies|HvyAlcoholConsump|AnyHealthcare|NoDocbcCost|GenHlth|MentHlth|PhysHlth|DiffWalk|Sex|Age|Education|Income|\n",
      "+------------+------+--------+---------+---+------+------+--------------------+------------+------+-------+-----------------+-------------+-----------+-------+--------+--------+--------+---+---+---------+------+\n",
      "|           0|     0|       0|        0|  0|     0|     0|                   0|           0|     0|      0|                0|            0|          0|      0|       0|       0|       0|  0|  0|        0|     0|\n",
      "+------------+------+--------+---------+---+------+------+--------------------+------------+------+-------+-----------------+-------------+-----------+-------+--------+--------+--------+---+---+---------+------+\n",
      "\n"
     ]
    }
   ],
   "source": [
    "# This is giving us the count of the missing values in the columns \n",
    "\n",
    "Data.select([count(when(isnan(c) | col(c).isNull(), c)).alias(c) for c in Data.columns]).show()\n",
    "#Data.select([count(when(isnan(c), c)).alias(c) for c in Data.columns]).show()\n",
    "\n"
   ]
  },
  {
   "cell_type": "code",
   "execution_count": 7,
   "id": "b114c84d",
   "metadata": {},
   "outputs": [
    {
     "data": {
      "text/html": [
       "<div>\n",
       "<style scoped>\n",
       "    .dataframe tbody tr th:only-of-type {\n",
       "        vertical-align: middle;\n",
       "    }\n",
       "\n",
       "    .dataframe tbody tr th {\n",
       "        vertical-align: top;\n",
       "    }\n",
       "\n",
       "    .dataframe thead th {\n",
       "        text-align: right;\n",
       "    }\n",
       "</style>\n",
       "<table border=\"1\" class=\"dataframe\">\n",
       "  <thead>\n",
       "    <tr style=\"text-align: right;\">\n",
       "      <th></th>\n",
       "      <th>0</th>\n",
       "      <th>1</th>\n",
       "      <th>2</th>\n",
       "      <th>3</th>\n",
       "      <th>4</th>\n",
       "    </tr>\n",
       "  </thead>\n",
       "  <tbody>\n",
       "    <tr>\n",
       "      <th>summary</th>\n",
       "      <td>count</td>\n",
       "      <td>mean</td>\n",
       "      <td>stddev</td>\n",
       "      <td>min</td>\n",
       "      <td>max</td>\n",
       "    </tr>\n",
       "    <tr>\n",
       "      <th>Diabetes_012</th>\n",
       "      <td>253680</td>\n",
       "      <td>0.29692131819615264</td>\n",
       "      <td>0.6981597284091021</td>\n",
       "      <td>0.0</td>\n",
       "      <td>2.0</td>\n",
       "    </tr>\n",
       "    <tr>\n",
       "      <th>HighBP</th>\n",
       "      <td>253680</td>\n",
       "      <td>0.4290011037527594</td>\n",
       "      <td>0.4949344626899021</td>\n",
       "      <td>0.0</td>\n",
       "      <td>1.0</td>\n",
       "    </tr>\n",
       "    <tr>\n",
       "      <th>HighChol</th>\n",
       "      <td>253680</td>\n",
       "      <td>0.4241209397666351</td>\n",
       "      <td>0.49420980465688547</td>\n",
       "      <td>0.0</td>\n",
       "      <td>1.0</td>\n",
       "    </tr>\n",
       "    <tr>\n",
       "      <th>CholCheck</th>\n",
       "      <td>253680</td>\n",
       "      <td>0.9626695048880479</td>\n",
       "      <td>0.1895707543627256</td>\n",
       "      <td>0.0</td>\n",
       "      <td>1.0</td>\n",
       "    </tr>\n",
       "    <tr>\n",
       "      <th>BMI</th>\n",
       "      <td>253680</td>\n",
       "      <td>28.382363607694735</td>\n",
       "      <td>6.608694201406024</td>\n",
       "      <td>12.0</td>\n",
       "      <td>98.0</td>\n",
       "    </tr>\n",
       "    <tr>\n",
       "      <th>Smoker</th>\n",
       "      <td>253680</td>\n",
       "      <td>0.44316855881425415</td>\n",
       "      <td>0.4967606667785641</td>\n",
       "      <td>0.0</td>\n",
       "      <td>1.0</td>\n",
       "    </tr>\n",
       "    <tr>\n",
       "      <th>Stroke</th>\n",
       "      <td>253680</td>\n",
       "      <td>0.04057079785556607</td>\n",
       "      <td>0.19729409940016224</td>\n",
       "      <td>0.0</td>\n",
       "      <td>1.0</td>\n",
       "    </tr>\n",
       "    <tr>\n",
       "      <th>HeartDiseaseorAttack</th>\n",
       "      <td>253680</td>\n",
       "      <td>0.09418558814254178</td>\n",
       "      <td>0.2920873147507561</td>\n",
       "      <td>0.0</td>\n",
       "      <td>1.0</td>\n",
       "    </tr>\n",
       "    <tr>\n",
       "      <th>PhysActivity</th>\n",
       "      <td>253680</td>\n",
       "      <td>0.7565436770734784</td>\n",
       "      <td>0.4291690433970457</td>\n",
       "      <td>0.0</td>\n",
       "      <td>1.0</td>\n",
       "    </tr>\n",
       "    <tr>\n",
       "      <th>Fruits</th>\n",
       "      <td>253680</td>\n",
       "      <td>0.6342557552822453</td>\n",
       "      <td>0.4816391871704347</td>\n",
       "      <td>0.0</td>\n",
       "      <td>1.0</td>\n",
       "    </tr>\n",
       "    <tr>\n",
       "      <th>Veggies</th>\n",
       "      <td>253680</td>\n",
       "      <td>0.811419899085462</td>\n",
       "      <td>0.39117547168449035</td>\n",
       "      <td>0.0</td>\n",
       "      <td>1.0</td>\n",
       "    </tr>\n",
       "    <tr>\n",
       "      <th>HvyAlcoholConsump</th>\n",
       "      <td>253680</td>\n",
       "      <td>0.05619678334910123</td>\n",
       "      <td>0.23030178889522906</td>\n",
       "      <td>0.0</td>\n",
       "      <td>1.0</td>\n",
       "    </tr>\n",
       "    <tr>\n",
       "      <th>AnyHealthcare</th>\n",
       "      <td>253680</td>\n",
       "      <td>0.9510525070955534</td>\n",
       "      <td>0.21575870631073912</td>\n",
       "      <td>0.0</td>\n",
       "      <td>1.0</td>\n",
       "    </tr>\n",
       "    <tr>\n",
       "      <th>NoDocbcCost</th>\n",
       "      <td>253680</td>\n",
       "      <td>0.08417691579943236</td>\n",
       "      <td>0.27765350085762475</td>\n",
       "      <td>0.0</td>\n",
       "      <td>1.0</td>\n",
       "    </tr>\n",
       "    <tr>\n",
       "      <th>GenHlth</th>\n",
       "      <td>253680</td>\n",
       "      <td>2.5113923052664773</td>\n",
       "      <td>1.0684773622803927</td>\n",
       "      <td>1.0</td>\n",
       "      <td>5.0</td>\n",
       "    </tr>\n",
       "    <tr>\n",
       "      <th>MentHlth</th>\n",
       "      <td>253680</td>\n",
       "      <td>3.1847721538946705</td>\n",
       "      <td>7.412846696196172</td>\n",
       "      <td>0.0</td>\n",
       "      <td>30.0</td>\n",
       "    </tr>\n",
       "    <tr>\n",
       "      <th>PhysHlth</th>\n",
       "      <td>253680</td>\n",
       "      <td>4.2420805739514345</td>\n",
       "      <td>8.717951307175133</td>\n",
       "      <td>0.0</td>\n",
       "      <td>30.0</td>\n",
       "    </tr>\n",
       "    <tr>\n",
       "      <th>DiffWalk</th>\n",
       "      <td>253680</td>\n",
       "      <td>0.16822374645222327</td>\n",
       "      <td>0.3740655947328032</td>\n",
       "      <td>0.0</td>\n",
       "      <td>1.0</td>\n",
       "    </tr>\n",
       "    <tr>\n",
       "      <th>Sex</th>\n",
       "      <td>253680</td>\n",
       "      <td>0.4403421633554084</td>\n",
       "      <td>0.49642916311850555</td>\n",
       "      <td>0.0</td>\n",
       "      <td>1.0</td>\n",
       "    </tr>\n",
       "    <tr>\n",
       "      <th>Age</th>\n",
       "      <td>253680</td>\n",
       "      <td>8.032119205298013</td>\n",
       "      <td>3.054220434168482</td>\n",
       "      <td>1.0</td>\n",
       "      <td>13.0</td>\n",
       "    </tr>\n",
       "    <tr>\n",
       "      <th>Education</th>\n",
       "      <td>253680</td>\n",
       "      <td>5.050433617155472</td>\n",
       "      <td>0.9857741757276497</td>\n",
       "      <td>1.0</td>\n",
       "      <td>6.0</td>\n",
       "    </tr>\n",
       "    <tr>\n",
       "      <th>Income</th>\n",
       "      <td>253680</td>\n",
       "      <td>6.053874960580258</td>\n",
       "      <td>2.0711475662715153</td>\n",
       "      <td>1.0</td>\n",
       "      <td>8.0</td>\n",
       "    </tr>\n",
       "  </tbody>\n",
       "</table>\n",
       "</div>"
      ],
      "text/plain": [
       "                           0                    1                    2     3  \\\n",
       "summary                count                 mean               stddev   min   \n",
       "Diabetes_012          253680  0.29692131819615264   0.6981597284091021   0.0   \n",
       "HighBP                253680   0.4290011037527594   0.4949344626899021   0.0   \n",
       "HighChol              253680   0.4241209397666351  0.49420980465688547   0.0   \n",
       "CholCheck             253680   0.9626695048880479   0.1895707543627256   0.0   \n",
       "BMI                   253680   28.382363607694735    6.608694201406024  12.0   \n",
       "Smoker                253680  0.44316855881425415   0.4967606667785641   0.0   \n",
       "Stroke                253680  0.04057079785556607  0.19729409940016224   0.0   \n",
       "HeartDiseaseorAttack  253680  0.09418558814254178   0.2920873147507561   0.0   \n",
       "PhysActivity          253680   0.7565436770734784   0.4291690433970457   0.0   \n",
       "Fruits                253680   0.6342557552822453   0.4816391871704347   0.0   \n",
       "Veggies               253680    0.811419899085462  0.39117547168449035   0.0   \n",
       "HvyAlcoholConsump     253680  0.05619678334910123  0.23030178889522906   0.0   \n",
       "AnyHealthcare         253680   0.9510525070955534  0.21575870631073912   0.0   \n",
       "NoDocbcCost           253680  0.08417691579943236  0.27765350085762475   0.0   \n",
       "GenHlth               253680   2.5113923052664773   1.0684773622803927   1.0   \n",
       "MentHlth              253680   3.1847721538946705    7.412846696196172   0.0   \n",
       "PhysHlth              253680   4.2420805739514345    8.717951307175133   0.0   \n",
       "DiffWalk              253680  0.16822374645222327   0.3740655947328032   0.0   \n",
       "Sex                   253680   0.4403421633554084  0.49642916311850555   0.0   \n",
       "Age                   253680    8.032119205298013    3.054220434168482   1.0   \n",
       "Education             253680    5.050433617155472   0.9857741757276497   1.0   \n",
       "Income                253680    6.053874960580258   2.0711475662715153   1.0   \n",
       "\n",
       "                         4  \n",
       "summary                max  \n",
       "Diabetes_012           2.0  \n",
       "HighBP                 1.0  \n",
       "HighChol               1.0  \n",
       "CholCheck              1.0  \n",
       "BMI                   98.0  \n",
       "Smoker                 1.0  \n",
       "Stroke                 1.0  \n",
       "HeartDiseaseorAttack   1.0  \n",
       "PhysActivity           1.0  \n",
       "Fruits                 1.0  \n",
       "Veggies                1.0  \n",
       "HvyAlcoholConsump      1.0  \n",
       "AnyHealthcare          1.0  \n",
       "NoDocbcCost            1.0  \n",
       "GenHlth                5.0  \n",
       "MentHlth              30.0  \n",
       "PhysHlth              30.0  \n",
       "DiffWalk               1.0  \n",
       "Sex                    1.0  \n",
       "Age                   13.0  \n",
       "Education              6.0  \n",
       "Income                 8.0  "
      ]
     },
     "execution_count": 7,
     "metadata": {},
     "output_type": "execute_result"
    }
   ],
   "source": [
    "# describe() function to extract the statistics of the numerical columns in the table\n",
    "numeric= [t[0] for t in Data.dtypes if t[1] =='double']\n",
    "Data.select(numeric).describe().toPandas().transpose()\n"
   ]
  },
  {
   "cell_type": "markdown",
   "id": "k1nRjcf9hQ86",
   "metadata": {
    "id": "k1nRjcf9hQ86"
   },
   "source": [
    "## **Exploratory Data Analysis (EDA)**"
   ]
  },
  {
   "cell_type": "markdown",
   "id": "NtpRmEgQhc6E",
   "metadata": {
    "id": "NtpRmEgQhc6E"
   },
   "source": [
    "> PySpark dataframes do not support visualizations like pandas does with its plot() method. So, here we will convert our pyspark dataframe to panda, using the following code:"
   ]
  },
  {
   "cell_type": "code",
   "execution_count": 8,
   "id": "vMnIWFzig5dM",
   "metadata": {
    "colab": {
     "base_uri": "https://localhost:8080/",
     "height": 452
    },
    "id": "vMnIWFzig5dM",
    "outputId": "688b102e-b823-43dc-d687-73414afda921"
   },
   "outputs": [
    {
     "data": {
      "text/html": [
       "<div>\n",
       "<style scoped>\n",
       "    .dataframe tbody tr th:only-of-type {\n",
       "        vertical-align: middle;\n",
       "    }\n",
       "\n",
       "    .dataframe tbody tr th {\n",
       "        vertical-align: top;\n",
       "    }\n",
       "\n",
       "    .dataframe thead th {\n",
       "        text-align: right;\n",
       "    }\n",
       "</style>\n",
       "<table border=\"1\" class=\"dataframe\">\n",
       "  <thead>\n",
       "    <tr style=\"text-align: right;\">\n",
       "      <th></th>\n",
       "      <th>Diabetes_012</th>\n",
       "      <th>HighBP</th>\n",
       "      <th>HighChol</th>\n",
       "      <th>CholCheck</th>\n",
       "      <th>BMI</th>\n",
       "      <th>Smoker</th>\n",
       "      <th>Stroke</th>\n",
       "      <th>HeartDiseaseorAttack</th>\n",
       "      <th>PhysActivity</th>\n",
       "      <th>Fruits</th>\n",
       "      <th>...</th>\n",
       "      <th>AnyHealthcare</th>\n",
       "      <th>NoDocbcCost</th>\n",
       "      <th>GenHlth</th>\n",
       "      <th>MentHlth</th>\n",
       "      <th>PhysHlth</th>\n",
       "      <th>DiffWalk</th>\n",
       "      <th>Sex</th>\n",
       "      <th>Age</th>\n",
       "      <th>Education</th>\n",
       "      <th>Income</th>\n",
       "    </tr>\n",
       "  </thead>\n",
       "  <tbody>\n",
       "    <tr>\n",
       "      <th>0</th>\n",
       "      <td>0.0</td>\n",
       "      <td>1.0</td>\n",
       "      <td>1.0</td>\n",
       "      <td>1.0</td>\n",
       "      <td>40.0</td>\n",
       "      <td>1.0</td>\n",
       "      <td>0.0</td>\n",
       "      <td>0.0</td>\n",
       "      <td>0.0</td>\n",
       "      <td>0.0</td>\n",
       "      <td>...</td>\n",
       "      <td>1.0</td>\n",
       "      <td>0.0</td>\n",
       "      <td>5.0</td>\n",
       "      <td>18.0</td>\n",
       "      <td>15.0</td>\n",
       "      <td>1.0</td>\n",
       "      <td>0.0</td>\n",
       "      <td>9.0</td>\n",
       "      <td>4.0</td>\n",
       "      <td>3.0</td>\n",
       "    </tr>\n",
       "    <tr>\n",
       "      <th>1</th>\n",
       "      <td>0.0</td>\n",
       "      <td>0.0</td>\n",
       "      <td>0.0</td>\n",
       "      <td>0.0</td>\n",
       "      <td>25.0</td>\n",
       "      <td>1.0</td>\n",
       "      <td>0.0</td>\n",
       "      <td>0.0</td>\n",
       "      <td>1.0</td>\n",
       "      <td>0.0</td>\n",
       "      <td>...</td>\n",
       "      <td>0.0</td>\n",
       "      <td>1.0</td>\n",
       "      <td>3.0</td>\n",
       "      <td>0.0</td>\n",
       "      <td>0.0</td>\n",
       "      <td>0.0</td>\n",
       "      <td>0.0</td>\n",
       "      <td>7.0</td>\n",
       "      <td>6.0</td>\n",
       "      <td>1.0</td>\n",
       "    </tr>\n",
       "    <tr>\n",
       "      <th>2</th>\n",
       "      <td>0.0</td>\n",
       "      <td>1.0</td>\n",
       "      <td>1.0</td>\n",
       "      <td>1.0</td>\n",
       "      <td>28.0</td>\n",
       "      <td>0.0</td>\n",
       "      <td>0.0</td>\n",
       "      <td>0.0</td>\n",
       "      <td>0.0</td>\n",
       "      <td>1.0</td>\n",
       "      <td>...</td>\n",
       "      <td>1.0</td>\n",
       "      <td>1.0</td>\n",
       "      <td>5.0</td>\n",
       "      <td>30.0</td>\n",
       "      <td>30.0</td>\n",
       "      <td>1.0</td>\n",
       "      <td>0.0</td>\n",
       "      <td>9.0</td>\n",
       "      <td>4.0</td>\n",
       "      <td>8.0</td>\n",
       "    </tr>\n",
       "    <tr>\n",
       "      <th>3</th>\n",
       "      <td>0.0</td>\n",
       "      <td>1.0</td>\n",
       "      <td>0.0</td>\n",
       "      <td>1.0</td>\n",
       "      <td>27.0</td>\n",
       "      <td>0.0</td>\n",
       "      <td>0.0</td>\n",
       "      <td>0.0</td>\n",
       "      <td>1.0</td>\n",
       "      <td>1.0</td>\n",
       "      <td>...</td>\n",
       "      <td>1.0</td>\n",
       "      <td>0.0</td>\n",
       "      <td>2.0</td>\n",
       "      <td>0.0</td>\n",
       "      <td>0.0</td>\n",
       "      <td>0.0</td>\n",
       "      <td>0.0</td>\n",
       "      <td>11.0</td>\n",
       "      <td>3.0</td>\n",
       "      <td>6.0</td>\n",
       "    </tr>\n",
       "    <tr>\n",
       "      <th>4</th>\n",
       "      <td>0.0</td>\n",
       "      <td>1.0</td>\n",
       "      <td>1.0</td>\n",
       "      <td>1.0</td>\n",
       "      <td>24.0</td>\n",
       "      <td>0.0</td>\n",
       "      <td>0.0</td>\n",
       "      <td>0.0</td>\n",
       "      <td>1.0</td>\n",
       "      <td>1.0</td>\n",
       "      <td>...</td>\n",
       "      <td>1.0</td>\n",
       "      <td>0.0</td>\n",
       "      <td>2.0</td>\n",
       "      <td>3.0</td>\n",
       "      <td>0.0</td>\n",
       "      <td>0.0</td>\n",
       "      <td>0.0</td>\n",
       "      <td>11.0</td>\n",
       "      <td>5.0</td>\n",
       "      <td>4.0</td>\n",
       "    </tr>\n",
       "    <tr>\n",
       "      <th>5</th>\n",
       "      <td>0.0</td>\n",
       "      <td>1.0</td>\n",
       "      <td>1.0</td>\n",
       "      <td>1.0</td>\n",
       "      <td>25.0</td>\n",
       "      <td>1.0</td>\n",
       "      <td>0.0</td>\n",
       "      <td>0.0</td>\n",
       "      <td>1.0</td>\n",
       "      <td>1.0</td>\n",
       "      <td>...</td>\n",
       "      <td>1.0</td>\n",
       "      <td>0.0</td>\n",
       "      <td>2.0</td>\n",
       "      <td>0.0</td>\n",
       "      <td>2.0</td>\n",
       "      <td>0.0</td>\n",
       "      <td>1.0</td>\n",
       "      <td>10.0</td>\n",
       "      <td>6.0</td>\n",
       "      <td>8.0</td>\n",
       "    </tr>\n",
       "    <tr>\n",
       "      <th>6</th>\n",
       "      <td>0.0</td>\n",
       "      <td>1.0</td>\n",
       "      <td>0.0</td>\n",
       "      <td>1.0</td>\n",
       "      <td>30.0</td>\n",
       "      <td>1.0</td>\n",
       "      <td>0.0</td>\n",
       "      <td>0.0</td>\n",
       "      <td>0.0</td>\n",
       "      <td>0.0</td>\n",
       "      <td>...</td>\n",
       "      <td>1.0</td>\n",
       "      <td>0.0</td>\n",
       "      <td>3.0</td>\n",
       "      <td>0.0</td>\n",
       "      <td>14.0</td>\n",
       "      <td>0.0</td>\n",
       "      <td>0.0</td>\n",
       "      <td>9.0</td>\n",
       "      <td>6.0</td>\n",
       "      <td>7.0</td>\n",
       "    </tr>\n",
       "    <tr>\n",
       "      <th>7</th>\n",
       "      <td>0.0</td>\n",
       "      <td>1.0</td>\n",
       "      <td>1.0</td>\n",
       "      <td>1.0</td>\n",
       "      <td>25.0</td>\n",
       "      <td>1.0</td>\n",
       "      <td>0.0</td>\n",
       "      <td>0.0</td>\n",
       "      <td>1.0</td>\n",
       "      <td>0.0</td>\n",
       "      <td>...</td>\n",
       "      <td>1.0</td>\n",
       "      <td>0.0</td>\n",
       "      <td>3.0</td>\n",
       "      <td>0.0</td>\n",
       "      <td>0.0</td>\n",
       "      <td>1.0</td>\n",
       "      <td>0.0</td>\n",
       "      <td>11.0</td>\n",
       "      <td>4.0</td>\n",
       "      <td>4.0</td>\n",
       "    </tr>\n",
       "    <tr>\n",
       "      <th>8</th>\n",
       "      <td>2.0</td>\n",
       "      <td>1.0</td>\n",
       "      <td>1.0</td>\n",
       "      <td>1.0</td>\n",
       "      <td>30.0</td>\n",
       "      <td>1.0</td>\n",
       "      <td>0.0</td>\n",
       "      <td>1.0</td>\n",
       "      <td>0.0</td>\n",
       "      <td>1.0</td>\n",
       "      <td>...</td>\n",
       "      <td>1.0</td>\n",
       "      <td>0.0</td>\n",
       "      <td>5.0</td>\n",
       "      <td>30.0</td>\n",
       "      <td>30.0</td>\n",
       "      <td>1.0</td>\n",
       "      <td>0.0</td>\n",
       "      <td>9.0</td>\n",
       "      <td>5.0</td>\n",
       "      <td>1.0</td>\n",
       "    </tr>\n",
       "    <tr>\n",
       "      <th>9</th>\n",
       "      <td>0.0</td>\n",
       "      <td>0.0</td>\n",
       "      <td>0.0</td>\n",
       "      <td>1.0</td>\n",
       "      <td>24.0</td>\n",
       "      <td>0.0</td>\n",
       "      <td>0.0</td>\n",
       "      <td>0.0</td>\n",
       "      <td>0.0</td>\n",
       "      <td>0.0</td>\n",
       "      <td>...</td>\n",
       "      <td>1.0</td>\n",
       "      <td>0.0</td>\n",
       "      <td>2.0</td>\n",
       "      <td>0.0</td>\n",
       "      <td>0.0</td>\n",
       "      <td>0.0</td>\n",
       "      <td>1.0</td>\n",
       "      <td>8.0</td>\n",
       "      <td>4.0</td>\n",
       "      <td>3.0</td>\n",
       "    </tr>\n",
       "  </tbody>\n",
       "</table>\n",
       "<p>10 rows × 22 columns</p>\n",
       "</div>"
      ],
      "text/plain": [
       "   Diabetes_012  HighBP  HighChol  CholCheck   BMI  Smoker  Stroke  \\\n",
       "0           0.0     1.0       1.0        1.0  40.0     1.0     0.0   \n",
       "1           0.0     0.0       0.0        0.0  25.0     1.0     0.0   \n",
       "2           0.0     1.0       1.0        1.0  28.0     0.0     0.0   \n",
       "3           0.0     1.0       0.0        1.0  27.0     0.0     0.0   \n",
       "4           0.0     1.0       1.0        1.0  24.0     0.0     0.0   \n",
       "5           0.0     1.0       1.0        1.0  25.0     1.0     0.0   \n",
       "6           0.0     1.0       0.0        1.0  30.0     1.0     0.0   \n",
       "7           0.0     1.0       1.0        1.0  25.0     1.0     0.0   \n",
       "8           2.0     1.0       1.0        1.0  30.0     1.0     0.0   \n",
       "9           0.0     0.0       0.0        1.0  24.0     0.0     0.0   \n",
       "\n",
       "   HeartDiseaseorAttack  PhysActivity  Fruits  ...  AnyHealthcare  \\\n",
       "0                   0.0           0.0     0.0  ...            1.0   \n",
       "1                   0.0           1.0     0.0  ...            0.0   \n",
       "2                   0.0           0.0     1.0  ...            1.0   \n",
       "3                   0.0           1.0     1.0  ...            1.0   \n",
       "4                   0.0           1.0     1.0  ...            1.0   \n",
       "5                   0.0           1.0     1.0  ...            1.0   \n",
       "6                   0.0           0.0     0.0  ...            1.0   \n",
       "7                   0.0           1.0     0.0  ...            1.0   \n",
       "8                   1.0           0.0     1.0  ...            1.0   \n",
       "9                   0.0           0.0     0.0  ...            1.0   \n",
       "\n",
       "   NoDocbcCost  GenHlth  MentHlth  PhysHlth  DiffWalk  Sex   Age  Education  \\\n",
       "0          0.0      5.0      18.0      15.0       1.0  0.0   9.0        4.0   \n",
       "1          1.0      3.0       0.0       0.0       0.0  0.0   7.0        6.0   \n",
       "2          1.0      5.0      30.0      30.0       1.0  0.0   9.0        4.0   \n",
       "3          0.0      2.0       0.0       0.0       0.0  0.0  11.0        3.0   \n",
       "4          0.0      2.0       3.0       0.0       0.0  0.0  11.0        5.0   \n",
       "5          0.0      2.0       0.0       2.0       0.0  1.0  10.0        6.0   \n",
       "6          0.0      3.0       0.0      14.0       0.0  0.0   9.0        6.0   \n",
       "7          0.0      3.0       0.0       0.0       1.0  0.0  11.0        4.0   \n",
       "8          0.0      5.0      30.0      30.0       1.0  0.0   9.0        5.0   \n",
       "9          0.0      2.0       0.0       0.0       0.0  1.0   8.0        4.0   \n",
       "\n",
       "   Income  \n",
       "0     3.0  \n",
       "1     1.0  \n",
       "2     8.0  \n",
       "3     6.0  \n",
       "4     4.0  \n",
       "5     8.0  \n",
       "6     7.0  \n",
       "7     4.0  \n",
       "8     1.0  \n",
       "9     3.0  \n",
       "\n",
       "[10 rows x 22 columns]"
      ]
     },
     "execution_count": 8,
     "metadata": {},
     "output_type": "execute_result"
    }
   ],
   "source": [
    "pandasDF = Data.toPandas()\n",
    "pandasDF.head(10)"
   ]
  },
  {
   "cell_type": "markdown",
   "id": "RdL3MUnGj-YL",
   "metadata": {
    "id": "RdL3MUnGj-YL"
   },
   "source": [
    "### **1st Plot**"
   ]
  },
  {
   "cell_type": "code",
   "execution_count": 9,
   "id": "GAuAugGdkKd9",
   "metadata": {
    "colab": {
     "base_uri": "https://localhost:8080/",
     "height": 431
    },
    "id": "GAuAugGdkKd9",
    "outputId": "fe658475-135c-40a6-9b01-2d4b0cb98ce6"
   },
   "outputs": [
    {
     "data": {
      "image/png": "[encoded data removed]",
      "text/plain": [
       "<Figure size 720x504 with 1 Axes>"
      ]
     },
     "metadata": {},
     "output_type": "display_data"
    }
   ],
   "source": [
    "#define color \n",
    "c= ['#ffa8a1ff','#cad5d7ff','#ffd8b1ff']\n",
    "\n",
    "#Set fig size\n",
    "fig = plt.figure(figsize =(10, 7))\n",
    "\n",
    "# set the labels of figure \n",
    "lable=[\"No diabetes  \",\"Prediabetes\",\"Diabetes\"]\n",
    "\n",
    "# Add title\n",
    "plt.title(\"Diabetes distribution\",fontsize=18,weight = 'bold')\n",
    "\n",
    "\n",
    "data = pandasDF['Diabetes_012'].value_counts().nlargest(4)\n",
    "colors = sns.color_palette(c)\n",
    "plt.pie(data.values, labels=lable, colors=colors, autopct='%1.1f%%',explode = [.1,.2,0])\n",
    "plt.show()"
   ]
  },
  {
   "cell_type": "markdown",
   "id": "vTrEYqsvlw2b",
   "metadata": {
    "id": "vTrEYqsvlw2b"
   },
   "source": [
    "According to this plot there is class imbalance in this dataset. "
   ]
  },
  {
   "cell_type": "markdown",
   "id": "THFz-E4OlaV_",
   "metadata": {
    "id": "THFz-E4OlaV_"
   },
   "source": [
    "### **2nd plot**"
   ]
  },
  {
   "cell_type": "code",
   "execution_count": 10,
   "id": "u4Lu3c2WlZmQ",
   "metadata": {
    "colab": {
     "base_uri": "https://localhost:8080/",
     "height": 431
    },
    "id": "u4Lu3c2WlZmQ",
    "outputId": "975cb221-9d1b-411f-ca20-d5ae4e3e9420"
   },
   "outputs": [
    {
     "data": {
      "image/png": "[encoded data removed]",
      "text/plain": [
       "<Figure size 720x504 with 1 Axes>"
      ]
     },
     "metadata": {},
     "output_type": "display_data"
    }
   ],
   "source": [
    "\n",
    "#Set fig size\n",
    "fig = plt.figure(figsize =(10, 7))\n",
    "\n",
    "# set the labels of figure \n",
    "lable=[\"High Blood Pressure\",\"No High Blood Pressure \"]\n",
    "\n",
    "# Add title\n",
    "plt.title(\"Blood pressure distribution\",fontsize=18,weight = 'bold')\n",
    "\n",
    "data = pandasDF['HighBP'].value_counts().nlargest(4)\n",
    "colors = sns.color_palette(c)\n",
    "\n",
    "plt.pie(data.values, labels=lable, colors=colors, autopct='%1.1f%%',explode = [.1,0])\n",
    "plt.show()"
   ]
  },
  {
   "cell_type": "markdown",
   "id": "aXLCi43Pp5xC",
   "metadata": {
    "id": "aXLCi43Pp5xC"
   },
   "source": [
    "### **3rd plot**"
   ]
  },
  {
   "cell_type": "code",
   "execution_count": 11,
   "id": "7iX1SdcF7I83",
   "metadata": {
    "id": "7iX1SdcF7I83"
   },
   "outputs": [],
   "source": [
    "#make copy of dataset \n",
    "diabetes_Temp=pandasDF.copy()"
   ]
  },
  {
   "cell_type": "code",
   "execution_count": 12,
   "id": "1G6JjBVVqP_u",
   "metadata": {
    "colab": {
     "base_uri": "https://localhost:8080/",
     "height": 565
    },
    "id": "1G6JjBVVqP_u",
    "outputId": "2ba44592-0a19-4c3d-fc43-9c902609b15a"
   },
   "outputs": [
    {
     "data": {
      "image/png": "[encoded data removed]",
      "text/plain": [
       "<Figure size 936x576 with 1 Axes>"
      ]
     },
     "metadata": {
      "needs_background": "light"
     },
     "output_type": "display_data"
    }
   ],
   "source": [
    "# Smoker count according to Diabetes statues\n",
    "\n",
    "#Change label of smoker column to make it easy to read and understand labels\n",
    "diabetes_Temp['Smoker'] = diabetes_Temp['Smoker'].replace({1.0:'Smoker', 0.0:'Not smoker'})\n",
    "\n",
    "\n",
    "# Creating plot\n",
    "\n",
    "#Set fig size\n",
    "fig, ax = plt.subplots(figsize=(13,8))\n",
    "\n",
    "#plotting bar-plot\n",
    "ax=sns.countplot(x='Smoker', data=diabetes_Temp, hue= 'Diabetes_012', palette=c, order = diabetes_Temp['Smoker'].value_counts().index,\n",
    "                edgecolor=\"black\")\n",
    "#Rotate x-labels\n",
    "ax.set_xticklabels(ax.get_xticklabels(), rotation=80)\n",
    "\n",
    "# Add title\n",
    "plt.title('Smoker count according to Diabetes statues',fontsize=18,weight = 'bold')\n",
    "\n",
    "#Change leganed labels\n",
    "plt.legend(labels=[\"No diabetes  \",\"Prediabetes\",\"Diabetes\"])\n",
    "\n",
    "# show plot\n",
    "plt.show()"
   ]
  },
  {
   "cell_type": "markdown",
   "id": "fcLy-OSir42b",
   "metadata": {
    "id": "fcLy-OSir42b"
   },
   "source": [
    "### **4th plot**"
   ]
  },
  {
   "cell_type": "code",
   "execution_count": 13,
   "id": "zABOQFyHwHUf",
   "metadata": {
    "colab": {
     "base_uri": "https://localhost:8080/",
     "height": 517
    },
    "id": "zABOQFyHwHUf",
    "outputId": "889259a5-6bfd-4c83-b431-7ff13247d37d"
   },
   "outputs": [
    {
     "data": {
      "image/png": "[encoded data removed]",
      "text/plain": [
       "<Figure size 936x576 with 1 Axes>"
      ]
     },
     "metadata": {
      "needs_background": "light"
     },
     "output_type": "display_data"
    }
   ],
   "source": [
    "# Heart Diseaseor Attack count according to Diabetes statues\n",
    "\n",
    "#Change label of HeartDiseaseorAttack column to make it easy to read and understand labels\n",
    "diabetes_Temp['HeartDiseaseorAttack'] = diabetes_Temp['HeartDiseaseorAttack'].replace({1.0:\"Have heart disease\", 0.0:\"Haven't heart disease\"})\n",
    "\n",
    "# Creating plot\n",
    "\n",
    "#Set fig size\n",
    "fig, ax = plt.subplots(figsize=(13,8))\n",
    "\n",
    "#plotting bar-plot\n",
    "ax=sns.countplot(x='HeartDiseaseorAttack', data=diabetes_Temp, hue= 'Diabetes_012', palette=c, order = diabetes_Temp['HeartDiseaseorAttack'].value_counts().index,\n",
    "                edgecolor=\"black\")\n",
    "#Rotate x-labels\n",
    "\n",
    "# Add title\n",
    "plt.title('Heart Diseaseor Attack according to Diabetes statues',fontsize=18,weight = 'bold')\n",
    "\n",
    "#Change leganed labels\n",
    "plt.legend(labels=[\"No diabetes  \",\"Prediabetes\",\"Diabetes\"])\n",
    "\n",
    "# show plot\n",
    "plt.show()"
   ]
  },
  {
   "cell_type": "markdown",
   "id": "Mz5xgXztwhr6",
   "metadata": {
    "id": "Mz5xgXztwhr6"
   },
   "source": [
    "### **5th plot**"
   ]
  },
  {
   "cell_type": "code",
   "execution_count": 14,
   "id": "PFCockprwgww",
   "metadata": {
    "colab": {
     "base_uri": "https://localhost:8080/",
     "height": 544
    },
    "id": "PFCockprwgww",
    "outputId": "f3433c5d-bf7c-4623-9816-282c97fb9dbe"
   },
   "outputs": [
    {
     "data": {
      "image/png": "[encoded data removed]",
      "text/plain": [
       "<Figure size 936x576 with 1 Axes>"
      ]
     },
     "metadata": {
      "needs_background": "light"
     },
     "output_type": "display_data"
    }
   ],
   "source": [
    "# Sex type relationship to Diabetes status\n",
    "\n",
    "#Change label of Sex column to make it easy to read and understand labels\n",
    "diabetes_Temp['Sex'] = diabetes_Temp['Sex'].replace({1.0:\"Male\", 0.0:\"Female\"})\n",
    "\n",
    "\n",
    "# Creating plot\n",
    "\n",
    "#Set fig size\n",
    "fig, ax = plt.subplots(figsize=(13,8))\n",
    "\n",
    "gender=[\"Male\",\"Female\"]\n",
    "\n",
    "#plotting bar-plot\n",
    "ax=sns.countplot(x='Sex', data=diabetes_Temp, hue= 'Diabetes_012', palette=c, order = diabetes_Temp['Sex'].value_counts().index,\n",
    "                edgecolor=\"black\")\n",
    "\n",
    "\n",
    "#Rotate x-labels\n",
    "ax.set_xticklabels(ax.get_xticklabels(), rotation=80)\n",
    "\n",
    "# Add title\n",
    "plt.title('Gender type relationship to Diabetes status',fontsize=18,weight = 'bold')\n",
    "\n",
    "#Change leganed labels\n",
    "plt.legend(labels=[\"No diabetes  \",\"Prediabetes\",\"Diabetes\"])\n",
    "\n",
    "# show plot\n",
    "plt.show()"
   ]
  },
  {
   "cell_type": "markdown",
   "id": "gJoIHG2S2foN",
   "metadata": {
    "id": "gJoIHG2S2foN"
   },
   "source": [
    "### **6th plot**"
   ]
  },
  {
   "cell_type": "code",
   "execution_count": 15,
   "id": "E0rojs0W1Koj",
   "metadata": {
    "colab": {
     "base_uri": "https://localhost:8080/",
     "height": 562
    },
    "id": "E0rojs0W1Koj",
    "outputId": "f1c96bcf-1f91-42f7-bbb5-3d289c5e6f86"
   },
   "outputs": [
    {
     "data": {
      "image/png": "[encoded data removed]",
      "text/plain": [
       "<Figure size 936x576 with 1 Axes>"
      ]
     },
     "metadata": {
      "needs_background": "light"
     },
     "output_type": "display_data"
    }
   ],
   "source": [
    "\n",
    "#Change label of columns to make it easy to read and understand labels\n",
    "diabetes_Temp['Age'] = diabetes_Temp['Age'].replace({1.0:'18 to 24', 2.0:'25 to 29',3.0:'30 to 34',4.0:'35 to 39',5.0:'40 to 44',6.0:'45 to 49',7.0:'50 to 54',8.0:'55 to 59',9.0:'60 to 64',10.0:'65 to 69',11.0:'70 to 74',12.0:'75 to 79',13.0:'80 or older'})\n",
    "\n",
    "# Creating plot\n",
    "\n",
    "#Set fig size\n",
    "fig, ax = plt.subplots(figsize=(13,8))\n",
    "\n",
    "# Add title\n",
    "plt.title(\"Age distribution according to Diabetes\",fontsize=18)\n",
    "\n",
    "#plotting count-plot\n",
    "ax=sns.countplot(x='Age', data=diabetes_Temp, hue= 'Diabetes_012', palette=c, order = diabetes_Temp['Age'].value_counts().index,)\n",
    "\n",
    "#Rotate x-labels\n",
    "ax.set_xticklabels(ax.get_xticklabels(), rotation=80)\n",
    "\n",
    "plt.legend(labels=[\"No diabetes  \",\"Prediabetes\",\"Diabetes\"])\n",
    "\n",
    "\n",
    "plt.show()"
   ]
  },
  {
   "cell_type": "markdown",
   "id": "mKSZMBB4-CfB",
   "metadata": {
    "id": "mKSZMBB4-CfB"
   },
   "source": [
    "### **7th Plot**"
   ]
  },
  {
   "cell_type": "code",
   "execution_count": 16,
   "id": "4-m7aJxp89CQ",
   "metadata": {
    "colab": {
     "base_uri": "https://localhost:8080/",
     "height": 524
    },
    "id": "4-m7aJxp89CQ",
    "outputId": "33553096-1102-4436-ed0c-2835c23125da"
   },
   "outputs": [
    {
     "data": {
      "image/png": "[encoded data removed]",
      "text/plain": [
       "<Figure size 936x576 with 1 Axes>"
      ]
     },
     "metadata": {
      "needs_background": "light"
     },
     "output_type": "display_data"
    }
   ],
   "source": [
    "\n",
    "#Relationship of General health to Diabetes\n",
    "\n",
    "# Creating plot\n",
    "\n",
    "#Set fig size\n",
    "fig, ax = plt.subplots(figsize=(13,8))\n",
    "\n",
    "# Add title\n",
    "plt.title(\"Relationship of General health to Diabetes\",fontsize=18)\n",
    "\n",
    "#plotting count-plot\n",
    "ax=sns.countplot(x='GenHlth', data=pandasDF, hue= 'Diabetes_012', palette=c, order = pandasDF['GenHlth'].value_counts().index,)\n",
    "\n",
    "#Rotate x-labels\n",
    "ax.set_xticklabels(ax.get_xticklabels(), rotation=80)\n",
    "\n",
    "plt.legend(labels=[\"No diabetes  \",\"Prediabetes\",\"Diabetes\"])\n",
    "\n",
    "plt.xlabel('General health') #x axis label\n",
    "\n",
    "\n",
    "plt.show()"
   ]
  },
  {
   "cell_type": "markdown",
   "id": "T0-flIflAcvp",
   "metadata": {
    "id": "T0-flIflAcvp"
   },
   "source": [
    "### **8th plot**"
   ]
  },
  {
   "cell_type": "code",
   "execution_count": 17,
   "id": "3lYLNp3ZAVeH",
   "metadata": {
    "colab": {
     "base_uri": "https://localhost:8080/",
     "height": 517
    },
    "id": "3lYLNp3ZAVeH",
    "outputId": "ea70e50c-2216-43a9-a3dc-da4dc468f8f8"
   },
   "outputs": [
    {
     "data": {
      "image/png": "[encoded data removed]",
      "text/plain": [
       "<Figure size 936x576 with 1 Axes>"
      ]
     },
     "metadata": {
      "needs_background": "light"
     },
     "output_type": "display_data"
    }
   ],
   "source": [
    "\n",
    "#Relationship of physical activity in past 30 days - not including job to Diabetes\n",
    "\n",
    "#Change label of columns to make it easy to read and understand labels\n",
    "diabetes_Temp['PhysActivity'] = diabetes_Temp['PhysActivity'].replace({1.0:'Yes', 0.0:'No'})\n",
    "\n",
    "# Creating plot\n",
    "\n",
    "#Set fig size\n",
    "fig, ax = plt.subplots(figsize=(13,8))\n",
    "\n",
    "# Add title\n",
    "plt.title(\"Relationship of physical activity in past 30 days - not including job to Diabetes\",fontsize=18)\n",
    "\n",
    "#plotting count-plot\n",
    "ax=sns.countplot(x='PhysActivity', data=diabetes_Temp, hue= 'Diabetes_012', palette=c, order = diabetes_Temp['PhysActivity'].value_counts().index,)\n",
    "\n",
    "plt.legend(labels=[\"No diabetes  \",\"Prediabetes\",\"Diabetes\"])\n",
    "\n",
    "plt.xlabel('Physical activity') #x axis label\n",
    "\n",
    "\n",
    "plt.show()"
   ]
  },
  {
   "cell_type": "markdown",
   "id": "QGg9ptBdChbB",
   "metadata": {
    "id": "QGg9ptBdChbB"
   },
   "source": [
    "### **9th Plot**"
   ]
  },
  {
   "cell_type": "code",
   "execution_count": 18,
   "id": "3J8sG-jtCamC",
   "metadata": {
    "colab": {
     "base_uri": "https://localhost:8080/",
     "height": 517
    },
    "id": "3J8sG-jtCamC",
    "outputId": "b76d653a-83c3-4b17-c17d-e7279ce29f83"
   },
   "outputs": [
    {
     "data": {
      "image/png": "[encoded data removed]",
      "text/plain": [
       "<Figure size 936x576 with 1 Axes>"
      ]
     },
     "metadata": {
      "needs_background": "light"
     },
     "output_type": "display_data"
    }
   ],
   "source": [
    "#Change label of columns to make it easy to read and understand labels\n",
    "diabetes_Temp['Income'] = diabetes_Temp['Income'].replace({1.0:'Less Than $10,000', 2.0:'Less Than $10,000',3.0:'Less Than $10,000',4.0:'Less Than $10,000',5.0:'Less Than $35,000',6.0:'Less Than $35,000',7.0:'Less Than $35,000',8.0:'$75,000 or More'})\n",
    "\n",
    "# Creating plot\n",
    "\n",
    "#Set fig size\n",
    "fig, ax = plt.subplots(figsize=(13,8))\n",
    "\n",
    "# Add title\n",
    "plt.title(\"Income Impact to Diabetes Status\",fontsize=18)\n",
    "\n",
    "#plotting count-plot\n",
    "ax=sns.countplot(x='Income', data=diabetes_Temp, hue= 'Diabetes_012', palette=c, order = diabetes_Temp['Income'].value_counts().index,)\n",
    "\n",
    "#Rotate x-labels\n",
    "\n",
    "plt.legend(labels=[\"No diabetes\",\"Prediabetes\",\"Diabetes\"])\n",
    "\n",
    "\n",
    "plt.show()"
   ]
  },
  {
   "cell_type": "markdown",
   "id": "c14c2af7",
   "metadata": {},
   "source": [
    "### The Target is 'Diabetes_012' - Replace the class Prediabetes to be Diabetes"
   ]
  },
  {
   "cell_type": "code",
   "execution_count": 19,
   "id": "efc5f9b6",
   "metadata": {},
   "outputs": [
    {
     "name": "stdout",
     "output_type": "stream",
     "text": [
      "+------------+------+\n",
      "|Diabetes_012| count|\n",
      "+------------+------+\n",
      "|         0.0|213703|\n",
      "|         1.0|  4631|\n",
      "|         2.0| 35346|\n",
      "+------------+------+\n",
      "\n"
     ]
    }
   ],
   "source": [
    "Data.groupBy('Diabetes_012').count().show()"
   ]
  },
  {
   "cell_type": "code",
   "execution_count": 22,
   "id": "77c7fcde",
   "metadata": {},
   "outputs": [],
   "source": [
    "from pyspark.sql.functions import *\n",
    "Data = Data.replace(2.0, 1.0, subset=['Diabetes_012'])"
   ]
  },
  {
   "cell_type": "code",
   "execution_count": 23,
   "id": "eff4df8a",
   "metadata": {},
   "outputs": [
    {
     "name": "stdout",
     "output_type": "stream",
     "text": [
      "+------------+------+\n",
      "|Diabetes_012| count|\n",
      "+------------+------+\n",
      "|         0.0|213703|\n",
      "|         1.0| 39977|\n",
      "+------------+------+\n",
      "\n"
     ]
    }
   ],
   "source": [
    "Data.groupBy('Diabetes_012').count().show()"
   ]
  },
  {
   "cell_type": "markdown",
   "id": "046a2dec",
   "metadata": {},
   "source": [
    "### Combining Feature Columns\n",
    "\n",
    "Inputs to Scikit-learn models have the data split into X-arrays/dataframes (features) and Y-arrays/dataframes (predictors). PySpark expects both the features and the predictor to be in a single dataframe. However, all the features have to be combined into a single column containing a list of the feature values. To accomplish this, we use [`VectorAssembler`](http://spark.apache.org/docs/latest/api/python/pyspark.ml.html#pyspark.ml.feature.VectorAssembler).\n",
    "\n",
    "Note that VectorAssembler uses transform. This is just like the second step of Scikit-learn's feature transformers for normalization, etc."
   ]
  },
  {
   "cell_type": "code",
   "execution_count": 24,
   "id": "d0bfe53c",
   "metadata": {},
   "outputs": [],
   "source": [
    "cols = Data.columns\n",
    "cols.remove('Diabetes_012') #remove price -> we need this to be our label\n",
    "\n",
    "assembler = VectorAssembler(inputCols=cols, outputCol='features')\n",
    "\n",
    "data = assembler.transform(Data)"
   ]
  },
  {
   "cell_type": "markdown",
   "id": "350ce997",
   "metadata": {},
   "source": [
    "### Set columns and Split\n",
    "\n",
    "Before modelling, the data are split into train and test data sets. We will make the train set bigger at this point as will incorporate cross validation later on."
   ]
  },
  {
   "cell_type": "code",
   "execution_count": 25,
   "id": "4ae436b9",
   "metadata": {},
   "outputs": [],
   "source": [
    "# We have created a new dataframe only consisting of the features column and the label column (actually price column but renamed)\n",
    "df_data = data.select(F.col('features'), F.col('Diabetes_012').alias('label'))\n",
    "\n",
    "df_train, df_test = df_data.randomSplit([0.8, 0.2])"
   ]
  },
  {
   "cell_type": "code",
   "execution_count": 26,
   "id": "79beed7b",
   "metadata": {},
   "outputs": [
    {
     "name": "stdout",
     "output_type": "stream",
     "text": [
      "Training Dataset count:  202867\n",
      "Test Dataset count:  50813\n"
     ]
    }
   ],
   "source": [
    "print(\"Training Dataset count: \", str(df_train.count()))\n",
    "print(\"Test Dataset count: \", str(df_test.count()))\n",
    "     "
   ]
  },
  {
   "cell_type": "markdown",
   "id": "c0288b22",
   "metadata": {},
   "source": [
    "### Classification Machine Learning Models"
   ]
  },
  {
   "cell_type": "markdown",
   "id": "58708559",
   "metadata": {},
   "source": [
    "### Initialize Evaluator\n",
    "\n",
    "As we are dealing with categorical values, we will be using classifier to be trained on the data and then be used in prediction. Accordingly, we will have to use BinaryclassClassificationEvaluator to evaluate all the classifier we will be using."
   ]
  },
  {
   "cell_type": "code",
   "execution_count": 27,
   "id": "7d7c4dae",
   "metadata": {},
   "outputs": [],
   "source": [
    "evaluator = BinaryClassificationEvaluator() # Can specify what metrics we want to use. Default metric is AreaUnderRoc "
   ]
  },
  {
   "cell_type": "markdown",
   "id": "4977a266",
   "metadata": {},
   "source": [
    "### Area Under An ROC Curve \n",
    "\n",
    "is a measure of the usefulness of a test in general, where a greater area means a more useful test, the areas under ROC curves are used to compare the usefulness of tests.\n",
    "The term ROC stands for Receiver Operating Characteristic. it is the default metric for BinaryClassificationEvaluator"
   ]
  },
  {
   "cell_type": "markdown",
   "id": "35a40100",
   "metadata": {},
   "source": [
    "### BinaryClassificationEvaluator(*[, …])\n",
    "Evaluator for binary classification, which expects input columns rawPrediction, label and an optional weight column. The rawPrediction column can be of type double (binary 0/1 prediction, or probability of label 1) or of type vector (length-2 vector of raw predictions, scores, or label probabilities)."
   ]
  },
  {
   "cell_type": "markdown",
   "id": "2da83918",
   "metadata": {},
   "source": [
    "### 1st Model: LogisticRegression"
   ]
  },
  {
   "cell_type": "code",
   "execution_count": 28,
   "id": "0ef9e77a",
   "metadata": {},
   "outputs": [],
   "source": [
    "lr= LogisticRegression(featuresCol='features', labelCol='label')\n",
    "lrmodel= lr.fit(df_train)"
   ]
  },
  {
   "cell_type": "code",
   "execution_count": 29,
   "id": "acb0d338",
   "metadata": {},
   "outputs": [
    {
     "data": {
      "text/plain": [
       "0.8481123100356391"
      ]
     },
     "execution_count": 29,
     "metadata": {},
     "output_type": "execute_result"
    }
   ],
   "source": [
    "lrmodel.summary.accuracy"
   ]
  },
  {
   "cell_type": "code",
   "execution_count": 30,
   "id": "614df9b3",
   "metadata": {},
   "outputs": [
    {
     "data": {
      "text/html": [
       "<div>\n",
       "<style scoped>\n",
       "    .dataframe tbody tr th:only-of-type {\n",
       "        vertical-align: middle;\n",
       "    }\n",
       "\n",
       "    .dataframe tbody tr th {\n",
       "        vertical-align: top;\n",
       "    }\n",
       "\n",
       "    .dataframe thead th {\n",
       "        text-align: right;\n",
       "    }\n",
       "</style>\n",
       "<table border=\"1\" class=\"dataframe\">\n",
       "  <thead>\n",
       "    <tr style=\"text-align: right;\">\n",
       "      <th></th>\n",
       "      <th>label</th>\n",
       "      <th>features</th>\n",
       "      <th>rawPrediction</th>\n",
       "      <th>prediction</th>\n",
       "      <th>probability</th>\n",
       "    </tr>\n",
       "  </thead>\n",
       "  <tbody>\n",
       "    <tr>\n",
       "      <th>0</th>\n",
       "      <td>1.0</td>\n",
       "      <td>(1.0, 1.0, 1.0, 30.0, 1.0, 1.0, 0.0, 1.0, 0.0,...</td>\n",
       "      <td>[0.3846421997668079, -0.3846421997668079]</td>\n",
       "      <td>0.0</td>\n",
       "      <td>[0.5949922553598016, 0.4050077446401984]</td>\n",
       "    </tr>\n",
       "    <tr>\n",
       "      <th>1</th>\n",
       "      <td>0.0</td>\n",
       "      <td>(1.0, 1.0, 1.0, 23.0, 1.0, 1.0, 0.0, 0.0, 0.0,...</td>\n",
       "      <td>[2.2320456247270455, -2.2320456247270455]</td>\n",
       "      <td>0.0</td>\n",
       "      <td>[0.9030905357209086, 0.09690946427909142]</td>\n",
       "    </tr>\n",
       "    <tr>\n",
       "      <th>2</th>\n",
       "      <td>0.0</td>\n",
       "      <td>(1.0, 1.0, 1.0, 23.0, 1.0, 1.0, 0.0, 0.0, 0.0,...</td>\n",
       "      <td>[0.8419161467973879, -0.8419161467973879]</td>\n",
       "      <td>0.0</td>\n",
       "      <td>[0.698868625129687, 0.30113137487031305]</td>\n",
       "    </tr>\n",
       "    <tr>\n",
       "      <th>3</th>\n",
       "      <td>1.0</td>\n",
       "      <td>(1.0, 1.0, 1.0, 28.0, 1.0, 1.0, 0.0, 0.0, 0.0,...</td>\n",
       "      <td>[-0.23067376152093466, 0.23067376152093466]</td>\n",
       "      <td>1.0</td>\n",
       "      <td>[0.4425859195690519, 0.5574140804309481]</td>\n",
       "    </tr>\n",
       "    <tr>\n",
       "      <th>4</th>\n",
       "      <td>1.0</td>\n",
       "      <td>(1.0, 1.0, 1.0, 32.0, 1.0, 1.0, 0.0, 0.0, 0.0,...</td>\n",
       "      <td>[0.9579387875135605, -0.9579387875135605]</td>\n",
       "      <td>0.0</td>\n",
       "      <td>[0.7227089263072565, 0.27729107369274353]</td>\n",
       "    </tr>\n",
       "  </tbody>\n",
       "</table>\n",
       "</div>"
      ],
      "text/plain": [
       "   label                                           features  \\\n",
       "0    1.0  (1.0, 1.0, 1.0, 30.0, 1.0, 1.0, 0.0, 1.0, 0.0,...   \n",
       "1    0.0  (1.0, 1.0, 1.0, 23.0, 1.0, 1.0, 0.0, 0.0, 0.0,...   \n",
       "2    0.0  (1.0, 1.0, 1.0, 23.0, 1.0, 1.0, 0.0, 0.0, 0.0,...   \n",
       "3    1.0  (1.0, 1.0, 1.0, 28.0, 1.0, 1.0, 0.0, 0.0, 0.0,...   \n",
       "4    1.0  (1.0, 1.0, 1.0, 32.0, 1.0, 1.0, 0.0, 0.0, 0.0,...   \n",
       "\n",
       "                                 rawPrediction  prediction  \\\n",
       "0    [0.3846421997668079, -0.3846421997668079]         0.0   \n",
       "1    [2.2320456247270455, -2.2320456247270455]         0.0   \n",
       "2    [0.8419161467973879, -0.8419161467973879]         0.0   \n",
       "3  [-0.23067376152093466, 0.23067376152093466]         1.0   \n",
       "4    [0.9579387875135605, -0.9579387875135605]         0.0   \n",
       "\n",
       "                                 probability  \n",
       "0   [0.5949922553598016, 0.4050077446401984]  \n",
       "1  [0.9030905357209086, 0.09690946427909142]  \n",
       "2   [0.698868625129687, 0.30113137487031305]  \n",
       "3   [0.4425859195690519, 0.5574140804309481]  \n",
       "4  [0.7227089263072565, 0.27729107369274353]  "
      ]
     },
     "execution_count": 30,
     "metadata": {},
     "output_type": "execute_result"
    }
   ],
   "source": [
    "prediction= lrmodel.transform(df_test)\n",
    "prediction.select('label', 'features', 'rawPrediction', 'prediction', 'probability').toPandas().head(5)"
   ]
  },
  {
   "cell_type": "code",
   "execution_count": 31,
   "id": "8d16fcc6",
   "metadata": {},
   "outputs": [
    {
     "name": "stdout",
     "output_type": "stream",
     "text": [
      "Test Area Under ROC 0.8136159890385588\n"
     ]
    }
   ],
   "source": [
    "print('Test Area Under ROC', evaluator.evaluate(prediction))"
   ]
  },
  {
   "cell_type": "code",
   "execution_count": 32,
   "id": "020a0d87",
   "metadata": {},
   "outputs": [],
   "source": [
    "ParamGrid = (ParamGridBuilder().addGrid(lr.regParam, [0.01, 0.5, 2]).addGrid(lr.elasticNetParam, [0.0, 0.5,1.0]).addGrid(lr.maxIter,[1,5,10]).build())\n"
   ]
  },
  {
   "cell_type": "code",
   "execution_count": 33,
   "id": "d20d919b",
   "metadata": {},
   "outputs": [],
   "source": [
    "cv = CrossValidator(estimator=lr, estimatorParamMaps=ParamGrid, evaluator=evaluator, numFolds=5)\n",
    "cvModel= cv.fit(df_train)"
   ]
  },
  {
   "cell_type": "code",
   "execution_count": 34,
   "id": "29c8b7d3",
   "metadata": {},
   "outputs": [
    {
     "name": "stdout",
     "output_type": "stream",
     "text": [
      "Best Model Test Area Under ROC 0.8137380516181675\n"
     ]
    }
   ],
   "source": [
    "#Best Model Performance\n",
    "Predictions= cvModel.transform(df_test)\n",
    "print(\"Best Model Test Area Under ROC\", evaluator.evaluate(Predictions))    "
   ]
  },
  {
   "cell_type": "code",
   "execution_count": 35,
   "id": "f9183ce9",
   "metadata": {},
   "outputs": [
    {
     "name": "stdout",
     "output_type": "stream",
     "text": [
      "Best Param (regParam):  0.01\n",
      "Best Param (MaxIter):  10\n",
      "Best Param (eleasticNetParam):  0.0\n"
     ]
    }
   ],
   "source": [
    "#Best Model Parameters\n",
    "best_model= cvModel.bestModel\n",
    "\n",
    "print('Best Param (regParam): ',best_model._java_obj.getRegParam())\n",
    "print('Best Param (MaxIter): ', best_model._java_obj.getMaxIter())\n",
    "print('Best Param (eleasticNetParam): ', best_model._java_obj.getElasticNetParam()) "
   ]
  },
  {
   "cell_type": "markdown",
   "id": "d3af20bb",
   "metadata": {},
   "source": [
    "### 2nd Model: DecisionTreeClassifier"
   ]
  },
  {
   "cell_type": "code",
   "execution_count": 36,
   "id": "b2700398",
   "metadata": {},
   "outputs": [],
   "source": [
    "from pyspark.ml.classification import DecisionTreeClassifier\n",
    "dc = DecisionTreeClassifier()    "
   ]
  },
  {
   "cell_type": "code",
   "execution_count": 37,
   "id": "ffaef4c6",
   "metadata": {},
   "outputs": [
    {
     "name": "stdout",
     "output_type": "stream",
     "text": [
      "Best Model Test Area Under ROC 0.6392430400647642\n"
     ]
    }
   ],
   "source": [
    "ParamGrid = (ParamGridBuilder().addGrid(dc.maxDepth, [2,3,5,10,15, 20]).addGrid(dc.maxBins, [5,10,20,30,40,50]).build())\n",
    "cv = CrossValidator(estimator=dc, estimatorParamMaps=ParamGrid, evaluator=evaluator, numFolds=5)\n",
    "dc_cvModel= cv.fit(df_train)\n",
    "\n",
    "#Best Model Performance\n",
    "Predictions= dc_cvModel.transform(df_test)\n",
    "print(\"Best Model Test Area Under ROC\", evaluator.evaluate(Predictions))\n",
    "     "
   ]
  },
  {
   "cell_type": "code",
   "execution_count": 38,
   "id": "81328958",
   "metadata": {},
   "outputs": [
    {
     "name": "stdout",
     "output_type": "stream",
     "text": [
      "Best Param (maxDepth):  10\n",
      "Best Param (maxBins):  10\n"
     ]
    }
   ],
   "source": [
    "#Best Model Parameters\n",
    "best_model= dc_cvModel.bestModel\n",
    "\n",
    "print('Best Param (maxDepth): ',best_model._java_obj.getMaxDepth())\n",
    "print('Best Param (maxBins): ', best_model._java_obj.getMaxBins())"
   ]
  },
  {
   "cell_type": "markdown",
   "id": "0491110c",
   "metadata": {},
   "source": [
    "### 3rd Model: RandomForestClassifier"
   ]
  },
  {
   "cell_type": "code",
   "execution_count": 55,
   "id": "fdc0afbb",
   "metadata": {},
   "outputs": [],
   "source": [
    "from pyspark.ml.classification import RandomForestClassifier\n",
    "rfc= RandomForestClassifier()"
   ]
  },
  {
   "cell_type": "code",
   "execution_count": 57,
   "id": "c8485b4b",
   "metadata": {},
   "outputs": [
    {
     "ename": "ConnectionRefusedError",
     "evalue": "[WinError 10061] No connection could be made because the target machine actively refused it",
     "output_type": "error",
     "traceback": [
      "\u001b[1;31m---------------------------------------------------------------------------\u001b[0m",
      "\u001b[1;31mConnectionResetError\u001b[0m                      Traceback (most recent call last)",
      "\u001b[1;32m~\\anaconda3\\lib\\site-packages\\py4j\\clientserver.py\u001b[0m in \u001b[0;36msend_command\u001b[1;34m(self, command)\u001b[0m\n\u001b[0;32m    502\u001b[0m         \u001b[1;32mtry\u001b[0m\u001b[1;33m:\u001b[0m\u001b[1;33m\u001b[0m\u001b[1;33m\u001b[0m\u001b[0m\n\u001b[1;32m--> 503\u001b[1;33m             \u001b[0mself\u001b[0m\u001b[1;33m.\u001b[0m\u001b[0msocket\u001b[0m\u001b[1;33m.\u001b[0m\u001b[0msendall\u001b[0m\u001b[1;33m(\u001b[0m\u001b[0mcommand\u001b[0m\u001b[1;33m.\u001b[0m\u001b[0mencode\u001b[0m\u001b[1;33m(\u001b[0m\u001b[1;34m\"utf-8\"\u001b[0m\u001b[1;33m)\u001b[0m\u001b[1;33m)\u001b[0m\u001b[1;33m\u001b[0m\u001b[1;33m\u001b[0m\u001b[0m\n\u001b[0m\u001b[0;32m    504\u001b[0m         \u001b[1;32mexcept\u001b[0m \u001b[0mException\u001b[0m \u001b[1;32mas\u001b[0m \u001b[0me\u001b[0m\u001b[1;33m:\u001b[0m\u001b[1;33m\u001b[0m\u001b[1;33m\u001b[0m\u001b[0m\n",
      "\u001b[1;31mConnectionResetError\u001b[0m: [WinError 10054] An existing connection was forcibly closed by the remote host",
      "\nDuring handling of the above exception, another exception occurred:\n",
      "\u001b[1;31mPy4JNetworkError\u001b[0m                          Traceback (most recent call last)",
      "\u001b[1;32m~\\anaconda3\\lib\\site-packages\\py4j\\java_gateway.py\u001b[0m in \u001b[0;36msend_command\u001b[1;34m(self, command, retry, binary)\u001b[0m\n\u001b[0;32m   1037\u001b[0m         \u001b[1;32mtry\u001b[0m\u001b[1;33m:\u001b[0m\u001b[1;33m\u001b[0m\u001b[1;33m\u001b[0m\u001b[0m\n\u001b[1;32m-> 1038\u001b[1;33m             \u001b[0mresponse\u001b[0m \u001b[1;33m=\u001b[0m \u001b[0mconnection\u001b[0m\u001b[1;33m.\u001b[0m\u001b[0msend_command\u001b[0m\u001b[1;33m(\u001b[0m\u001b[0mcommand\u001b[0m\u001b[1;33m)\u001b[0m\u001b[1;33m\u001b[0m\u001b[1;33m\u001b[0m\u001b[0m\n\u001b[0m\u001b[0;32m   1039\u001b[0m             \u001b[1;32mif\u001b[0m \u001b[0mbinary\u001b[0m\u001b[1;33m:\u001b[0m\u001b[1;33m\u001b[0m\u001b[1;33m\u001b[0m\u001b[0m\n",
      "\u001b[1;32m~\\anaconda3\\lib\\site-packages\\py4j\\clientserver.py\u001b[0m in \u001b[0;36msend_command\u001b[1;34m(self, command)\u001b[0m\n\u001b[0;32m    505\u001b[0m             \u001b[0mlogger\u001b[0m\u001b[1;33m.\u001b[0m\u001b[0minfo\u001b[0m\u001b[1;33m(\u001b[0m\u001b[1;34m\"Error while sending or receiving.\"\u001b[0m\u001b[1;33m,\u001b[0m \u001b[0mexc_info\u001b[0m\u001b[1;33m=\u001b[0m\u001b[1;32mTrue\u001b[0m\u001b[1;33m)\u001b[0m\u001b[1;33m\u001b[0m\u001b[1;33m\u001b[0m\u001b[0m\n\u001b[1;32m--> 506\u001b[1;33m             raise Py4JNetworkError(\n\u001b[0m\u001b[0;32m    507\u001b[0m                 \"Error while sending\", e, proto.ERROR_ON_SEND)\n",
      "\u001b[1;31mPy4JNetworkError\u001b[0m: Error while sending",
      "\nDuring handling of the above exception, another exception occurred:\n",
      "\u001b[1;31mConnectionRefusedError\u001b[0m                    Traceback (most recent call last)",
      "\u001b[1;32m~\\AppData\\Local\\Temp/ipykernel_6968/564579745.py\u001b[0m in \u001b[0;36m<module>\u001b[1;34m\u001b[0m\n\u001b[0;32m      1\u001b[0m \u001b[0mParamGrid\u001b[0m \u001b[1;33m=\u001b[0m \u001b[1;33m(\u001b[0m\u001b[0mParamGridBuilder\u001b[0m\u001b[1;33m(\u001b[0m\u001b[1;33m)\u001b[0m\u001b[1;33m.\u001b[0m\u001b[0maddGrid\u001b[0m\u001b[1;33m(\u001b[0m\u001b[0mrfc\u001b[0m\u001b[1;33m.\u001b[0m\u001b[0mnumTrees\u001b[0m\u001b[1;33m,\u001b[0m \u001b[1;33m[\u001b[0m\u001b[1;36m2\u001b[0m\u001b[1;33m,\u001b[0m\u001b[1;36m3\u001b[0m\u001b[1;33m,\u001b[0m\u001b[1;36m5\u001b[0m\u001b[1;33m,\u001b[0m\u001b[1;36m10\u001b[0m\u001b[1;33m,\u001b[0m\u001b[1;36m15\u001b[0m\u001b[1;33m,\u001b[0m\u001b[1;36m20\u001b[0m\u001b[1;33m]\u001b[0m\u001b[1;33m)\u001b[0m\u001b[1;33m.\u001b[0m\u001b[0maddGrid\u001b[0m\u001b[1;33m(\u001b[0m\u001b[0mrfc\u001b[0m\u001b[1;33m.\u001b[0m\u001b[0mmaxDepth\u001b[0m\u001b[1;33m,\u001b[0m \u001b[1;33m[\u001b[0m\u001b[1;36m5\u001b[0m\u001b[1;33m,\u001b[0m\u001b[1;36m10\u001b[0m\u001b[1;33m,\u001b[0m\u001b[1;36m15\u001b[0m\u001b[1;33m,\u001b[0m\u001b[1;36m20\u001b[0m\u001b[1;33m]\u001b[0m\u001b[1;33m)\u001b[0m\u001b[1;33m.\u001b[0m\u001b[0maddGrid\u001b[0m\u001b[1;33m(\u001b[0m\u001b[0mrfc\u001b[0m\u001b[1;33m.\u001b[0m\u001b[0mmaxBins\u001b[0m\u001b[1;33m,\u001b[0m \u001b[1;33m[\u001b[0m\u001b[1;36m10\u001b[0m\u001b[1;33m,\u001b[0m\u001b[1;36m20\u001b[0m\u001b[1;33m,\u001b[0m\u001b[1;36m30\u001b[0m\u001b[1;33m,\u001b[0m\u001b[1;36m40\u001b[0m\u001b[1;33m,\u001b[0m\u001b[1;36m50\u001b[0m\u001b[1;33m]\u001b[0m\u001b[1;33m)\u001b[0m\u001b[1;33m.\u001b[0m\u001b[0mbuild\u001b[0m\u001b[1;33m(\u001b[0m\u001b[1;33m)\u001b[0m\u001b[1;33m)\u001b[0m\u001b[1;33m\u001b[0m\u001b[1;33m\u001b[0m\u001b[0m\n\u001b[0;32m      2\u001b[0m \u001b[0mcv\u001b[0m \u001b[1;33m=\u001b[0m \u001b[0mCrossValidator\u001b[0m\u001b[1;33m(\u001b[0m\u001b[0mestimator\u001b[0m\u001b[1;33m=\u001b[0m\u001b[0mrfc\u001b[0m\u001b[1;33m,\u001b[0m \u001b[0mestimatorParamMaps\u001b[0m\u001b[1;33m=\u001b[0m\u001b[0mParamGrid\u001b[0m\u001b[1;33m,\u001b[0m \u001b[0mevaluator\u001b[0m\u001b[1;33m=\u001b[0m\u001b[0mevaluator\u001b[0m\u001b[1;33m,\u001b[0m \u001b[0mnumFolds\u001b[0m\u001b[1;33m=\u001b[0m\u001b[1;36m5\u001b[0m\u001b[1;33m)\u001b[0m\u001b[1;33m\u001b[0m\u001b[1;33m\u001b[0m\u001b[0m\n\u001b[1;32m----> 3\u001b[1;33m \u001b[0mrfc_cvModel\u001b[0m\u001b[1;33m=\u001b[0m \u001b[0mcv\u001b[0m\u001b[1;33m.\u001b[0m\u001b[0mfit\u001b[0m\u001b[1;33m(\u001b[0m\u001b[0mdf_train\u001b[0m\u001b[1;33m)\u001b[0m\u001b[1;33m\u001b[0m\u001b[1;33m\u001b[0m\u001b[0m\n\u001b[0m\u001b[0;32m      4\u001b[0m \u001b[1;33m\u001b[0m\u001b[0m\n\u001b[0;32m      5\u001b[0m \u001b[1;31m#Best Model Performance\u001b[0m\u001b[1;33m\u001b[0m\u001b[1;33m\u001b[0m\u001b[1;33m\u001b[0m\u001b[0m\n",
      "\u001b[1;32m~\\anaconda3\\lib\\site-packages\\pyspark\\ml\\base.py\u001b[0m in \u001b[0;36mfit\u001b[1;34m(self, dataset, params)\u001b[0m\n\u001b[0;32m    203\u001b[0m                 \u001b[1;32mreturn\u001b[0m \u001b[0mself\u001b[0m\u001b[1;33m.\u001b[0m\u001b[0mcopy\u001b[0m\u001b[1;33m(\u001b[0m\u001b[0mparams\u001b[0m\u001b[1;33m)\u001b[0m\u001b[1;33m.\u001b[0m\u001b[0m_fit\u001b[0m\u001b[1;33m(\u001b[0m\u001b[0mdataset\u001b[0m\u001b[1;33m)\u001b[0m\u001b[1;33m\u001b[0m\u001b[1;33m\u001b[0m\u001b[0m\n\u001b[0;32m    204\u001b[0m             \u001b[1;32melse\u001b[0m\u001b[1;33m:\u001b[0m\u001b[1;33m\u001b[0m\u001b[1;33m\u001b[0m\u001b[0m\n\u001b[1;32m--> 205\u001b[1;33m                 \u001b[1;32mreturn\u001b[0m \u001b[0mself\u001b[0m\u001b[1;33m.\u001b[0m\u001b[0m_fit\u001b[0m\u001b[1;33m(\u001b[0m\u001b[0mdataset\u001b[0m\u001b[1;33m)\u001b[0m\u001b[1;33m\u001b[0m\u001b[1;33m\u001b[0m\u001b[0m\n\u001b[0m\u001b[0;32m    206\u001b[0m         \u001b[1;32melse\u001b[0m\u001b[1;33m:\u001b[0m\u001b[1;33m\u001b[0m\u001b[1;33m\u001b[0m\u001b[0m\n\u001b[0;32m    207\u001b[0m             raise TypeError(\n",
      "\u001b[1;32m~\\anaconda3\\lib\\site-packages\\pyspark\\ml\\tuning.py\u001b[0m in \u001b[0;36m_fit\u001b[1;34m(self, dataset)\u001b[0m\n\u001b[0;32m    836\u001b[0m             \u001b[0msubModels\u001b[0m \u001b[1;33m=\u001b[0m \u001b[1;33m[\u001b[0m\u001b[1;33m[\u001b[0m\u001b[1;32mNone\u001b[0m \u001b[1;32mfor\u001b[0m \u001b[0mj\u001b[0m \u001b[1;32min\u001b[0m \u001b[0mrange\u001b[0m\u001b[1;33m(\u001b[0m\u001b[0mnumModels\u001b[0m\u001b[1;33m)\u001b[0m\u001b[1;33m]\u001b[0m \u001b[1;32mfor\u001b[0m \u001b[0mi\u001b[0m \u001b[1;32min\u001b[0m \u001b[0mrange\u001b[0m\u001b[1;33m(\u001b[0m\u001b[0mnFolds\u001b[0m\u001b[1;33m)\u001b[0m\u001b[1;33m]\u001b[0m\u001b[1;33m\u001b[0m\u001b[1;33m\u001b[0m\u001b[0m\n\u001b[0;32m    837\u001b[0m \u001b[1;33m\u001b[0m\u001b[0m\n\u001b[1;32m--> 838\u001b[1;33m         \u001b[0mdatasets\u001b[0m \u001b[1;33m=\u001b[0m \u001b[0mself\u001b[0m\u001b[1;33m.\u001b[0m\u001b[0m_kFold\u001b[0m\u001b[1;33m(\u001b[0m\u001b[0mdataset\u001b[0m\u001b[1;33m)\u001b[0m\u001b[1;33m\u001b[0m\u001b[1;33m\u001b[0m\u001b[0m\n\u001b[0m\u001b[0;32m    839\u001b[0m         \u001b[1;32mfor\u001b[0m \u001b[0mi\u001b[0m \u001b[1;32min\u001b[0m \u001b[0mrange\u001b[0m\u001b[1;33m(\u001b[0m\u001b[0mnFolds\u001b[0m\u001b[1;33m)\u001b[0m\u001b[1;33m:\u001b[0m\u001b[1;33m\u001b[0m\u001b[1;33m\u001b[0m\u001b[0m\n\u001b[0;32m    840\u001b[0m             \u001b[0mvalidation\u001b[0m \u001b[1;33m=\u001b[0m \u001b[0mdatasets\u001b[0m\u001b[1;33m[\u001b[0m\u001b[0mi\u001b[0m\u001b[1;33m]\u001b[0m\u001b[1;33m[\u001b[0m\u001b[1;36m1\u001b[0m\u001b[1;33m]\u001b[0m\u001b[1;33m.\u001b[0m\u001b[0mcache\u001b[0m\u001b[1;33m(\u001b[0m\u001b[1;33m)\u001b[0m\u001b[1;33m\u001b[0m\u001b[1;33m\u001b[0m\u001b[0m\n",
      "\u001b[1;32m~\\anaconda3\\lib\\site-packages\\pyspark\\ml\\tuning.py\u001b[0m in \u001b[0;36m_kFold\u001b[1;34m(self, dataset)\u001b[0m\n\u001b[0;32m    875\u001b[0m             \u001b[0mh\u001b[0m \u001b[1;33m=\u001b[0m \u001b[1;36m1.0\u001b[0m \u001b[1;33m/\u001b[0m \u001b[0mnFolds\u001b[0m\u001b[1;33m\u001b[0m\u001b[1;33m\u001b[0m\u001b[0m\n\u001b[0;32m    876\u001b[0m             \u001b[0mrandCol\u001b[0m \u001b[1;33m=\u001b[0m \u001b[0mself\u001b[0m\u001b[1;33m.\u001b[0m\u001b[0muid\u001b[0m \u001b[1;33m+\u001b[0m \u001b[1;34m\"_rand\"\u001b[0m\u001b[1;33m\u001b[0m\u001b[1;33m\u001b[0m\u001b[0m\n\u001b[1;32m--> 877\u001b[1;33m             \u001b[0mdf\u001b[0m \u001b[1;33m=\u001b[0m \u001b[0mdataset\u001b[0m\u001b[1;33m.\u001b[0m\u001b[0mselect\u001b[0m\u001b[1;33m(\u001b[0m\u001b[1;34m\"*\"\u001b[0m\u001b[1;33m,\u001b[0m \u001b[0mrand\u001b[0m\u001b[1;33m(\u001b[0m\u001b[0mseed\u001b[0m\u001b[1;33m)\u001b[0m\u001b[1;33m.\u001b[0m\u001b[0malias\u001b[0m\u001b[1;33m(\u001b[0m\u001b[0mrandCol\u001b[0m\u001b[1;33m)\u001b[0m\u001b[1;33m)\u001b[0m\u001b[1;33m\u001b[0m\u001b[1;33m\u001b[0m\u001b[0m\n\u001b[0m\u001b[0;32m    878\u001b[0m             \u001b[1;32mfor\u001b[0m \u001b[0mi\u001b[0m \u001b[1;32min\u001b[0m \u001b[0mrange\u001b[0m\u001b[1;33m(\u001b[0m\u001b[0mnFolds\u001b[0m\u001b[1;33m)\u001b[0m\u001b[1;33m:\u001b[0m\u001b[1;33m\u001b[0m\u001b[1;33m\u001b[0m\u001b[0m\n\u001b[0;32m    879\u001b[0m                 \u001b[0mvalidateLB\u001b[0m \u001b[1;33m=\u001b[0m \u001b[0mi\u001b[0m \u001b[1;33m*\u001b[0m \u001b[0mh\u001b[0m\u001b[1;33m\u001b[0m\u001b[1;33m\u001b[0m\u001b[0m\n",
      "\u001b[1;32m~\\anaconda3\\lib\\site-packages\\pyspark\\sql\\functions.py\u001b[0m in \u001b[0;36mrand\u001b[1;34m(seed)\u001b[0m\n\u001b[0;32m   1466\u001b[0m     \"\"\"\n\u001b[0;32m   1467\u001b[0m     \u001b[1;32mif\u001b[0m \u001b[0mseed\u001b[0m \u001b[1;32mis\u001b[0m \u001b[1;32mnot\u001b[0m \u001b[1;32mNone\u001b[0m\u001b[1;33m:\u001b[0m\u001b[1;33m\u001b[0m\u001b[1;33m\u001b[0m\u001b[0m\n\u001b[1;32m-> 1468\u001b[1;33m         \u001b[1;32mreturn\u001b[0m \u001b[0m_invoke_function\u001b[0m\u001b[1;33m(\u001b[0m\u001b[1;34m\"rand\"\u001b[0m\u001b[1;33m,\u001b[0m \u001b[0mseed\u001b[0m\u001b[1;33m)\u001b[0m\u001b[1;33m\u001b[0m\u001b[1;33m\u001b[0m\u001b[0m\n\u001b[0m\u001b[0;32m   1469\u001b[0m     \u001b[1;32melse\u001b[0m\u001b[1;33m:\u001b[0m\u001b[1;33m\u001b[0m\u001b[1;33m\u001b[0m\u001b[0m\n\u001b[0;32m   1470\u001b[0m         \u001b[1;32mreturn\u001b[0m \u001b[0m_invoke_function\u001b[0m\u001b[1;33m(\u001b[0m\u001b[1;34m\"rand\"\u001b[0m\u001b[1;33m)\u001b[0m\u001b[1;33m\u001b[0m\u001b[1;33m\u001b[0m\u001b[0m\n",
      "\u001b[1;32m~\\anaconda3\\lib\\site-packages\\pyspark\\sql\\functions.py\u001b[0m in \u001b[0;36m_invoke_function\u001b[1;34m(name, *args)\u001b[0m\n\u001b[0;32m     82\u001b[0m     \"\"\"\n\u001b[0;32m     83\u001b[0m     \u001b[1;32massert\u001b[0m \u001b[0mSparkContext\u001b[0m\u001b[1;33m.\u001b[0m\u001b[0m_active_spark_context\u001b[0m \u001b[1;32mis\u001b[0m \u001b[1;32mnot\u001b[0m \u001b[1;32mNone\u001b[0m\u001b[1;33m\u001b[0m\u001b[1;33m\u001b[0m\u001b[0m\n\u001b[1;32m---> 84\u001b[1;33m     \u001b[0mjf\u001b[0m \u001b[1;33m=\u001b[0m \u001b[0m_get_jvm_function\u001b[0m\u001b[1;33m(\u001b[0m\u001b[0mname\u001b[0m\u001b[1;33m,\u001b[0m \u001b[0mSparkContext\u001b[0m\u001b[1;33m.\u001b[0m\u001b[0m_active_spark_context\u001b[0m\u001b[1;33m)\u001b[0m\u001b[1;33m\u001b[0m\u001b[1;33m\u001b[0m\u001b[0m\n\u001b[0m\u001b[0;32m     85\u001b[0m     \u001b[1;32mreturn\u001b[0m \u001b[0mColumn\u001b[0m\u001b[1;33m(\u001b[0m\u001b[0mjf\u001b[0m\u001b[1;33m(\u001b[0m\u001b[1;33m*\u001b[0m\u001b[0margs\u001b[0m\u001b[1;33m)\u001b[0m\u001b[1;33m)\u001b[0m\u001b[1;33m\u001b[0m\u001b[1;33m\u001b[0m\u001b[0m\n\u001b[0;32m     86\u001b[0m \u001b[1;33m\u001b[0m\u001b[0m\n",
      "\u001b[1;32m~\\anaconda3\\lib\\site-packages\\pyspark\\sql\\functions.py\u001b[0m in \u001b[0;36m_get_jvm_function\u001b[1;34m(name, sc)\u001b[0m\n\u001b[0;32m     73\u001b[0m     \"\"\"\n\u001b[0;32m     74\u001b[0m     \u001b[1;32massert\u001b[0m \u001b[0msc\u001b[0m\u001b[1;33m.\u001b[0m\u001b[0m_jvm\u001b[0m \u001b[1;32mis\u001b[0m \u001b[1;32mnot\u001b[0m \u001b[1;32mNone\u001b[0m\u001b[1;33m\u001b[0m\u001b[1;33m\u001b[0m\u001b[0m\n\u001b[1;32m---> 75\u001b[1;33m     \u001b[1;32mreturn\u001b[0m \u001b[0mgetattr\u001b[0m\u001b[1;33m(\u001b[0m\u001b[0msc\u001b[0m\u001b[1;33m.\u001b[0m\u001b[0m_jvm\u001b[0m\u001b[1;33m.\u001b[0m\u001b[0mfunctions\u001b[0m\u001b[1;33m,\u001b[0m \u001b[0mname\u001b[0m\u001b[1;33m)\u001b[0m\u001b[1;33m\u001b[0m\u001b[1;33m\u001b[0m\u001b[0m\n\u001b[0m\u001b[0;32m     76\u001b[0m \u001b[1;33m\u001b[0m\u001b[0m\n\u001b[0;32m     77\u001b[0m \u001b[1;33m\u001b[0m\u001b[0m\n",
      "\u001b[1;32m~\\anaconda3\\lib\\site-packages\\py4j\\java_gateway.py\u001b[0m in \u001b[0;36m__getattr__\u001b[1;34m(self, name)\u001b[0m\n\u001b[0;32m   1707\u001b[0m             \u001b[1;32mreturn\u001b[0m \u001b[0mUserHelpAutoCompletion\u001b[0m\u001b[1;33m(\u001b[0m\u001b[1;33m)\u001b[0m\u001b[1;33m\u001b[0m\u001b[1;33m\u001b[0m\u001b[0m\n\u001b[0;32m   1708\u001b[0m \u001b[1;33m\u001b[0m\u001b[0m\n\u001b[1;32m-> 1709\u001b[1;33m         answer = self._gateway_client.send_command(\n\u001b[0m\u001b[0;32m   1710\u001b[0m             \u001b[0mproto\u001b[0m\u001b[1;33m.\u001b[0m\u001b[0mREFLECTION_COMMAND_NAME\u001b[0m \u001b[1;33m+\u001b[0m\u001b[1;33m\u001b[0m\u001b[1;33m\u001b[0m\u001b[0m\n\u001b[0;32m   1711\u001b[0m             \u001b[0mproto\u001b[0m\u001b[1;33m.\u001b[0m\u001b[0mREFL_GET_UNKNOWN_SUB_COMMAND_NAME\u001b[0m \u001b[1;33m+\u001b[0m \u001b[0mname\u001b[0m \u001b[1;33m+\u001b[0m \u001b[1;34m\"\\n\"\u001b[0m \u001b[1;33m+\u001b[0m \u001b[0mself\u001b[0m\u001b[1;33m.\u001b[0m\u001b[0m_id\u001b[0m \u001b[1;33m+\u001b[0m\u001b[1;33m\u001b[0m\u001b[1;33m\u001b[0m\u001b[0m\n",
      "\u001b[1;32m~\\anaconda3\\lib\\site-packages\\py4j\\java_gateway.py\u001b[0m in \u001b[0;36msend_command\u001b[1;34m(self, command, retry, binary)\u001b[0m\n\u001b[0;32m   1051\u001b[0m             \u001b[1;32mif\u001b[0m \u001b[0mself\u001b[0m\u001b[1;33m.\u001b[0m\u001b[0m_should_retry\u001b[0m\u001b[1;33m(\u001b[0m\u001b[0mretry\u001b[0m\u001b[1;33m,\u001b[0m \u001b[0mconnection\u001b[0m\u001b[1;33m,\u001b[0m \u001b[0mpne\u001b[0m\u001b[1;33m)\u001b[0m\u001b[1;33m:\u001b[0m\u001b[1;33m\u001b[0m\u001b[1;33m\u001b[0m\u001b[0m\n\u001b[0;32m   1052\u001b[0m                 \u001b[0mlogging\u001b[0m\u001b[1;33m.\u001b[0m\u001b[0minfo\u001b[0m\u001b[1;33m(\u001b[0m\u001b[1;34m\"Exception while sending command.\"\u001b[0m\u001b[1;33m,\u001b[0m \u001b[0mexc_info\u001b[0m\u001b[1;33m=\u001b[0m\u001b[1;32mTrue\u001b[0m\u001b[1;33m)\u001b[0m\u001b[1;33m\u001b[0m\u001b[1;33m\u001b[0m\u001b[0m\n\u001b[1;32m-> 1053\u001b[1;33m                 \u001b[0mresponse\u001b[0m \u001b[1;33m=\u001b[0m \u001b[0mself\u001b[0m\u001b[1;33m.\u001b[0m\u001b[0msend_command\u001b[0m\u001b[1;33m(\u001b[0m\u001b[0mcommand\u001b[0m\u001b[1;33m,\u001b[0m \u001b[0mbinary\u001b[0m\u001b[1;33m=\u001b[0m\u001b[0mbinary\u001b[0m\u001b[1;33m)\u001b[0m\u001b[1;33m\u001b[0m\u001b[1;33m\u001b[0m\u001b[0m\n\u001b[0m\u001b[0;32m   1054\u001b[0m             \u001b[1;32melse\u001b[0m\u001b[1;33m:\u001b[0m\u001b[1;33m\u001b[0m\u001b[1;33m\u001b[0m\u001b[0m\n\u001b[0;32m   1055\u001b[0m                 logging.exception(\n",
      "\u001b[1;32m~\\anaconda3\\lib\\site-packages\\py4j\\java_gateway.py\u001b[0m in \u001b[0;36msend_command\u001b[1;34m(self, command, retry, binary)\u001b[0m\n\u001b[0;32m   1034\u001b[0m          \u001b[1;32mif\u001b[0m\u001b[0;31m \u001b[0m\u001b[0;31m`\u001b[0m\u001b[0mbinary\u001b[0m\u001b[0;31m`\u001b[0m \u001b[1;32mis\u001b[0m\u001b[0;31m \u001b[0m\u001b[0;31m`\u001b[0m\u001b[1;32mTrue\u001b[0m\u001b[0;31m`\u001b[0m\u001b[1;33m.\u001b[0m\u001b[1;33m\u001b[0m\u001b[1;33m\u001b[0m\u001b[0m\n\u001b[0;32m   1035\u001b[0m         \"\"\"\n\u001b[1;32m-> 1036\u001b[1;33m         \u001b[0mconnection\u001b[0m \u001b[1;33m=\u001b[0m \u001b[0mself\u001b[0m\u001b[1;33m.\u001b[0m\u001b[0m_get_connection\u001b[0m\u001b[1;33m(\u001b[0m\u001b[1;33m)\u001b[0m\u001b[1;33m\u001b[0m\u001b[1;33m\u001b[0m\u001b[0m\n\u001b[0m\u001b[0;32m   1037\u001b[0m         \u001b[1;32mtry\u001b[0m\u001b[1;33m:\u001b[0m\u001b[1;33m\u001b[0m\u001b[1;33m\u001b[0m\u001b[0m\n\u001b[0;32m   1038\u001b[0m             \u001b[0mresponse\u001b[0m \u001b[1;33m=\u001b[0m \u001b[0mconnection\u001b[0m\u001b[1;33m.\u001b[0m\u001b[0msend_command\u001b[0m\u001b[1;33m(\u001b[0m\u001b[0mcommand\u001b[0m\u001b[1;33m)\u001b[0m\u001b[1;33m\u001b[0m\u001b[1;33m\u001b[0m\u001b[0m\n",
      "\u001b[1;32m~\\anaconda3\\lib\\site-packages\\py4j\\clientserver.py\u001b[0m in \u001b[0;36m_get_connection\u001b[1;34m(self)\u001b[0m\n\u001b[0;32m    282\u001b[0m \u001b[1;33m\u001b[0m\u001b[0m\n\u001b[0;32m    283\u001b[0m         \u001b[1;32mif\u001b[0m \u001b[0mconnection\u001b[0m \u001b[1;32mis\u001b[0m \u001b[1;32mNone\u001b[0m \u001b[1;32mor\u001b[0m \u001b[0mconnection\u001b[0m\u001b[1;33m.\u001b[0m\u001b[0msocket\u001b[0m \u001b[1;32mis\u001b[0m \u001b[1;32mNone\u001b[0m\u001b[1;33m:\u001b[0m\u001b[1;33m\u001b[0m\u001b[1;33m\u001b[0m\u001b[0m\n\u001b[1;32m--> 284\u001b[1;33m             \u001b[0mconnection\u001b[0m \u001b[1;33m=\u001b[0m \u001b[0mself\u001b[0m\u001b[1;33m.\u001b[0m\u001b[0m_create_new_connection\u001b[0m\u001b[1;33m(\u001b[0m\u001b[1;33m)\u001b[0m\u001b[1;33m\u001b[0m\u001b[1;33m\u001b[0m\u001b[0m\n\u001b[0m\u001b[0;32m    285\u001b[0m         \u001b[1;32mreturn\u001b[0m \u001b[0mconnection\u001b[0m\u001b[1;33m\u001b[0m\u001b[1;33m\u001b[0m\u001b[0m\n\u001b[0;32m    286\u001b[0m \u001b[1;33m\u001b[0m\u001b[0m\n",
      "\u001b[1;32m~\\anaconda3\\lib\\site-packages\\py4j\\clientserver.py\u001b[0m in \u001b[0;36m_create_new_connection\u001b[1;34m(self)\u001b[0m\n\u001b[0;32m    289\u001b[0m             \u001b[0mself\u001b[0m\u001b[1;33m.\u001b[0m\u001b[0mjava_parameters\u001b[0m\u001b[1;33m,\u001b[0m \u001b[0mself\u001b[0m\u001b[1;33m.\u001b[0m\u001b[0mpython_parameters\u001b[0m\u001b[1;33m,\u001b[0m\u001b[1;33m\u001b[0m\u001b[1;33m\u001b[0m\u001b[0m\n\u001b[0;32m    290\u001b[0m             self.gateway_property, self)\n\u001b[1;32m--> 291\u001b[1;33m         \u001b[0mconnection\u001b[0m\u001b[1;33m.\u001b[0m\u001b[0mconnect_to_java_server\u001b[0m\u001b[1;33m(\u001b[0m\u001b[1;33m)\u001b[0m\u001b[1;33m\u001b[0m\u001b[1;33m\u001b[0m\u001b[0m\n\u001b[0m\u001b[0;32m    292\u001b[0m         \u001b[0mself\u001b[0m\u001b[1;33m.\u001b[0m\u001b[0mset_thread_connection\u001b[0m\u001b[1;33m(\u001b[0m\u001b[0mconnection\u001b[0m\u001b[1;33m)\u001b[0m\u001b[1;33m\u001b[0m\u001b[1;33m\u001b[0m\u001b[0m\n\u001b[0;32m    293\u001b[0m         \u001b[1;32mreturn\u001b[0m \u001b[0mconnection\u001b[0m\u001b[1;33m\u001b[0m\u001b[1;33m\u001b[0m\u001b[0m\n",
      "\u001b[1;32m~\\anaconda3\\lib\\site-packages\\py4j\\clientserver.py\u001b[0m in \u001b[0;36mconnect_to_java_server\u001b[1;34m(self)\u001b[0m\n\u001b[0;32m    436\u001b[0m                 self.socket = self.ssl_context.wrap_socket(\n\u001b[0;32m    437\u001b[0m                     self.socket, server_hostname=self.java_address)\n\u001b[1;32m--> 438\u001b[1;33m             \u001b[0mself\u001b[0m\u001b[1;33m.\u001b[0m\u001b[0msocket\u001b[0m\u001b[1;33m.\u001b[0m\u001b[0mconnect\u001b[0m\u001b[1;33m(\u001b[0m\u001b[1;33m(\u001b[0m\u001b[0mself\u001b[0m\u001b[1;33m.\u001b[0m\u001b[0mjava_address\u001b[0m\u001b[1;33m,\u001b[0m \u001b[0mself\u001b[0m\u001b[1;33m.\u001b[0m\u001b[0mjava_port\u001b[0m\u001b[1;33m)\u001b[0m\u001b[1;33m)\u001b[0m\u001b[1;33m\u001b[0m\u001b[1;33m\u001b[0m\u001b[0m\n\u001b[0m\u001b[0;32m    439\u001b[0m             \u001b[0mself\u001b[0m\u001b[1;33m.\u001b[0m\u001b[0mstream\u001b[0m \u001b[1;33m=\u001b[0m \u001b[0mself\u001b[0m\u001b[1;33m.\u001b[0m\u001b[0msocket\u001b[0m\u001b[1;33m.\u001b[0m\u001b[0mmakefile\u001b[0m\u001b[1;33m(\u001b[0m\u001b[1;34m\"rb\"\u001b[0m\u001b[1;33m)\u001b[0m\u001b[1;33m\u001b[0m\u001b[1;33m\u001b[0m\u001b[0m\n\u001b[0;32m    440\u001b[0m             \u001b[0mself\u001b[0m\u001b[1;33m.\u001b[0m\u001b[0mis_connected\u001b[0m \u001b[1;33m=\u001b[0m \u001b[1;32mTrue\u001b[0m\u001b[1;33m\u001b[0m\u001b[1;33m\u001b[0m\u001b[0m\n",
      "\u001b[1;31mConnectionRefusedError\u001b[0m: [WinError 10061] No connection could be made because the target machine actively refused it"
     ]
    }
   ],
   "source": [
    "ParamGrid = (ParamGridBuilder().addGrid(rfc.numTrees, [2,3,5,10,15,20]).addGrid(rfc.maxDepth, [5,10,15,20]).addGrid(rfc.maxBins, [10,20,30,40,50]).build())\n",
    "cv = CrossValidator(estimator=rfc, estimatorParamMaps=ParamGrid, evaluator=evaluator, numFolds=5)\n",
    "rfc_cvModel= cv.fit(df_train)\n",
    "\n",
    "#Best Model Performance\n",
    "Predictions= rfc_cvModel.transform(df_test)\n",
    "print(\"Best Model Test Area Under ROC\", evaluator.evaluate(Predictions))"
   ]
  },
  {
   "cell_type": "code",
   "execution_count": null,
   "id": "9086cab8",
   "metadata": {},
   "outputs": [
    {
     "name": "stderr",
     "output_type": "stream",
     "text": [
      "ERROR:root:Exception while sending command.\n",
      "Traceback (most recent call last):\n",
      "  File \"C:\\Users\\Mylab1\\anaconda3\\lib\\site-packages\\py4j\\clientserver.py\", line 511, in send_command\n",
      "    answer = smart_decode(self.stream.readline()[:-1])\n",
      "  File \"C:\\Users\\Mylab1\\anaconda3\\lib\\socket.py\", line 669, in readinto\n",
      "    return self._sock.recv_into(b)\n",
      "ConnectionResetError: [WinError 10054] An existing connection was forcibly closed by the remote host\n",
      "\n",
      "During handling of the above exception, another exception occurred:\n",
      "\n",
      "Traceback (most recent call last):\n",
      "  File \"C:\\Users\\Mylab1\\anaconda3\\lib\\site-packages\\py4j\\java_gateway.py\", line 1038, in send_command\n",
      "    response = connection.send_command(command)\n",
      "  File \"C:\\Users\\Mylab1\\anaconda3\\lib\\site-packages\\py4j\\clientserver.py\", line 539, in send_command\n",
      "    raise Py4JNetworkError(\n",
      "py4j.protocol.Py4JNetworkError: Error while sending or receiving\n"
     ]
    }
   ],
   "source": [
    "#Best Model Parameters\n",
    "best_model= rfc_cvModel.bestModel\n",
    "\n",
    "print('Best Param (maxDepth): ',best_model._java_obj.getMaxDepth())\n",
    "print('Best Param (maxBins): ', best_model._java_obj.getMaxBins())"
   ]
  },
  {
   "cell_type": "markdown",
   "id": "adae8e84",
   "metadata": {},
   "source": [
    "### 4th Model: Gradient-boosted tree classifier"
   ]
  },
  {
   "cell_type": "code",
   "execution_count": 39,
   "id": "6241cb09",
   "metadata": {
    "scrolled": true
   },
   "outputs": [],
   "source": [
    "from pyspark.ml.classification import GBTClassifier\n",
    "gbt= GBTClassifier()"
   ]
  },
  {
   "cell_type": "code",
   "execution_count": 40,
   "id": "9c78f3aa",
   "metadata": {},
   "outputs": [
    {
     "name": "stdout",
     "output_type": "stream",
     "text": [
      "Best Model Test Area Under ROC 0.8187919495109452\n"
     ]
    }
   ],
   "source": [
    "ParamGrid = (ParamGridBuilder().addGrid(gbt.maxIter, [5,10,15,20,25]).build())\n",
    "cv = CrossValidator(estimator=gbt, estimatorParamMaps=ParamGrid, evaluator=evaluator, numFolds=5)\n",
    "gbt_cvModel= cv.fit(df_train)\n",
    "\n",
    "#Best Model Performance\n",
    "Predictions= gbt_cvModel.transform(df_test)\n",
    "print(\"Best Model Test Area Under ROC\", evaluator.evaluate(Predictions))"
   ]
  },
  {
   "cell_type": "code",
   "execution_count": 41,
   "id": "2b06327f",
   "metadata": {},
   "outputs": [
    {
     "name": "stdout",
     "output_type": "stream",
     "text": [
      "Best Param (MaxIter):  25\n"
     ]
    }
   ],
   "source": [
    "#Best Model Parameters\n",
    "best_model= gbt_cvModel.bestModel\n",
    "\n",
    "print('Best Param (MaxIter): ', best_model._java_obj.getMaxIter())"
   ]
  },
  {
   "cell_type": "markdown",
   "id": "756dcc01",
   "metadata": {},
   "source": [
    "### 5th Model: Linear Support Vector Machine"
   ]
  },
  {
   "cell_type": "code",
   "execution_count": 42,
   "id": "ed4280d9",
   "metadata": {},
   "outputs": [],
   "source": [
    "from pyspark.ml.classification import LinearSVC\n",
    "l_SVC =LinearSVC()"
   ]
  },
  {
   "cell_type": "code",
   "execution_count": 43,
   "id": "d5494c0e",
   "metadata": {},
   "outputs": [
    {
     "name": "stdout",
     "output_type": "stream",
     "text": [
      "Best Model Test Area Under ROC 0.8120327161636189\n"
     ]
    }
   ],
   "source": [
    "ParamGrid = (ParamGridBuilder().addGrid(l_SVC.maxIter, [2,3,5,10,15, 20]).addGrid(l_SVC.regParam, [0.1, 0.2,0.5]).build())\n",
    "cv = CrossValidator(estimator=l_SVC, estimatorParamMaps=ParamGrid, evaluator=evaluator, numFolds=5)\n",
    "l_SVC_cvModel= cv.fit(df_train)\n",
    "\n",
    "#Best Model Performance\n",
    "Predictions= l_SVC_cvModel.transform(df_test)\n",
    "print(\"Best Model Test Area Under ROC\", evaluator.evaluate(Predictions))\n"
   ]
  },
  {
   "cell_type": "code",
   "execution_count": 44,
   "id": "faab551a",
   "metadata": {},
   "outputs": [
    {
     "name": "stdout",
     "output_type": "stream",
     "text": [
      "Best Param (maxIter):  5\n",
      "Best Param (regParam):  0.5\n"
     ]
    }
   ],
   "source": [
    "#Best Model Parameters\n",
    "best_model= l_SVC_cvModel.bestModel\n",
    "print('Best Param (maxIter): ',best_model._java_obj.getMaxIter())\n",
    "print('Best Param (regParam): ', best_model._java_obj.getRegParam())\n"
   ]
  },
  {
   "cell_type": "markdown",
   "id": "2790be95",
   "metadata": {},
   "source": [
    "### 6th Model: Naive Bayes"
   ]
  },
  {
   "cell_type": "code",
   "execution_count": 48,
   "id": "36c3692e",
   "metadata": {},
   "outputs": [],
   "source": [
    "from pyspark.ml.classification import NaiveBayes\n",
    "nb= NaiveBayes()"
   ]
  },
  {
   "cell_type": "code",
   "execution_count": 49,
   "id": "ea3b1ffa",
   "metadata": {},
   "outputs": [
    {
     "name": "stdout",
     "output_type": "stream",
     "text": [
      "Test Area Under ROC 0.3039788231876163\n"
     ]
    }
   ],
   "source": [
    "nb_Model= nb.fit(df_train)\n",
    "\n",
    "#Best Model Performance\n",
    "Predictions= nb_Model.transform(df_test)\n",
    "print(\"Test Area Under ROC\", evaluator.evaluate(Predictions))"
   ]
  },
  {
   "cell_type": "markdown",
   "id": "4b3596a0",
   "metadata": {},
   "source": [
    "### 7th Model: Factorization machines classifier"
   ]
  },
  {
   "cell_type": "code",
   "execution_count": 50,
   "id": "0645e797",
   "metadata": {},
   "outputs": [],
   "source": [
    "from pyspark.ml.classification import FMClassifier\n",
    "fmc= FMClassifier()"
   ]
  },
  {
   "cell_type": "code",
   "execution_count": 51,
   "id": "05273191",
   "metadata": {},
   "outputs": [
    {
     "name": "stdout",
     "output_type": "stream",
     "text": [
      "Best Model Test Area Under ROC 0.812028536904747\n"
     ]
    }
   ],
   "source": [
    "ParamGrid = (ParamGridBuilder().addGrid(fmc.stepSize, [0.001,0.01,0.1]).build())\n",
    "cv = CrossValidator(estimator=fmc, estimatorParamMaps=ParamGrid, evaluator=evaluator, numFolds=5)\n",
    "fmc_cvModel= cv.fit(df_train)\n",
    "\n",
    "#Best Model Performance\n",
    "Predictions= fmc_cvModel.transform(df_test)\n",
    "print(\"Best Model Test Area Under ROC\", evaluator.evaluate(Predictions))"
   ]
  },
  {
   "cell_type": "markdown",
   "id": "630a4383",
   "metadata": {},
   "source": [
    "### The best classification model is LogisticRegression"
   ]
  }
 ],
 "metadata": {
  "colab": {
   "provenance": []
  },
  "kernelspec": {
   "display_name": "Python 3 (ipykernel)",
   "language": "python",
   "name": "python3"
  },
  "language_info": {
   "codemirror_mode": {
    "name": "ipython",
    "version": 3
   },
   "file_extension": ".py",
   "mimetype": "text/x-python",
   "name": "python",
   "nbconvert_exporter": "python",
   "pygments_lexer": "ipython3",
   "version": "3.8.12"
  }
 },
 "nbformat": 4,
 "nbformat_minor": 5
}
